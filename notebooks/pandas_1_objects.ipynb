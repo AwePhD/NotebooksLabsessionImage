{
  "cells": [
    {
      "cell_type": "code",
      "execution_count": 2,
      "metadata": {
        "colab": {
          "base_uri": "https://localhost:8080/"
        },
        "id": "JalaKZemPhFE",
        "outputId": "557cf8d5-391c-4f86-da50-481b8ff665bd"
      },
      "outputs": [
        {
          "name": "stdout",
          "output_type": "stream",
          "text": [
            "  % Total    % Received % Xferd  Average Speed   Time    Time     Time  Current\n",
            "                                 Dload  Upload   Total   Spent    Left  Speed\n",
            "100   156  100   156    0     0   1695      0 --:--:-- --:--:-- --:--:--  1695\n",
            "100 2484k  100 2484k    0     0  10.6M      0 --:--:-- --:--:-- --:--:-- 10.6M\n"
          ]
        }
      ],
      "source": [
        "# Import dataset\n",
        "# Can be found at https://www.kaggle.com/vishalsubbiah/pokemon-images-and-types\n",
        "!rm -rf ./*\n",
        "!wget https://github.com/AwePhD/NotebooksLabsessionImage/raw/main/pokemon_dataset.zip\n",
        "!unzip -qq pokemon_dataset.zip\n",
        "!rm pokemon_dataset.zip\n"
      ]
    },
    {
      "cell_type": "code",
      "execution_count": 2,
      "metadata": {
        "id": "Lpcy2df4PjFN"
      },
      "outputs": [],
      "source": [
        "# Standard imports\n",
        "from pathlib import Path\n",
        "from typing import Dict, List\n",
        "\n",
        "# Third party imports\n",
        "import matplotlib.pyplot as plt\n",
        "import numpy as np\n",
        "import pandas as pd\n",
        "from skimage import io\n",
        "from skimage import img_as_float\n",
        "\n",
        "# Local package\n",
        "from NLI.utils import mean_image\n"
      ]
    },
    {
      "cell_type": "markdown",
      "metadata": {
        "id": "C9rwGYpekIXv"
      },
      "source": [
        "## Dataframe\n",
        "\n",
        "Pandas work with two main special variables - _object_ - which are [Series](https://pandas.pydata.org/docs/reference/api/pandas.Series.html) and [Dataframes](https://pandas.pydata.org/docs/reference/frame.html).\n",
        "\n",
        "The point of pandas is to visualize easily and process basic operations on data.\n",
        "\n",
        "---\n",
        "\n",
        "### Series\n",
        "\n",
        "Serias have a column - array - of element with an index that should be a [hashable](https://www.geeksforgeeks.org/why-and-how-are-python-functions-hashable/#:~:text=So%2C%20hashable%20is%20a%20feature,change%20during%20its%20entire%20lifetime.) object. Each row - element - is indexed by an index. The only column does not have any title.\n",
        "\n",
        "Example:\n",
        "\n",
        "| Index |  |\n",
        "|-------|-------|\n",
        "| 0 | \"apple\" |\n",
        "| 1 | \"banana\" |\n",
        "\n",
        "---\n",
        "\n",
        "### Dataframe\n",
        "\n",
        "Dataframe are 2D tables. Each row have an index and can have multiple labelled columns. This object is made to process with `.csv`.\n",
        "\n",
        "Note: Pandas processes data with numpy as backend, so it's  efficient.\n",
        "\n",
        "Note 2: [Seaborn](https://seaborn.pydata.org/) might be another pretty data visualisation tool. This is compatible with Dataframe so Pandas and Seaborn can work in pair.\n",
        "\n",
        "| Index (str) | Fruit 1 | Fruit 2 |\n",
        "|-------|-------|---------|\n",
        "| Mickael | apple | pear |\n",
        "| Sonia | banana | pitaya |\n",
        "\n",
        "---"
      ]
    },
    {
      "cell_type": "markdown",
      "metadata": {},
      "source": [
        "## Acces to data\n",
        "\n",
        "We will show how to have basic interaction with the data inside `DataFrame` objects. This can be done with `Series` in a similar way since those are 1D version of `DataFrame` objects.\n",
        "\n",
        "See those two chapters ([this](https://jakevdp.github.io/PythonDataScienceHandbook/03.01-introducing-pandas-objects.html) and [that](https://jakevdp.github.io/PythonDataScienceHandbook/03.02-data-indexing-and-selection.html)) in [Python DataScience Handbook](https://jakevdp.github.io/PythonDataScienceHandbook/index.html) for more details.\n",
        "\n",
        "Note: we are reading the data from a `.csv` file. For now, we skip the details of the importation."
      ]
    },
    {
      "cell_type": "code",
      "execution_count": 16,
      "metadata": {
        "colab": {
          "base_uri": "https://localhost:8080/",
          "height": 238
        },
        "id": "nf4-18QuPqPP",
        "outputId": "7b4d26b3-6f73-4f57-bf5d-c122d8febafa"
      },
      "outputs": [],
      "source": [
        "# Import the database (db) from .csv with Pandas' DataFrame\n",
        "df: pd.DataFrame = pd.read_csv(Path.cwd() / \"pokemon.csv\")\n"
      ]
    },
    {
      "cell_type": "code",
      "execution_count": 17,
      "metadata": {},
      "outputs": [
        {
          "data": {
            "text/html": [
              "<div>\n",
              "<style scoped>\n",
              "    .dataframe tbody tr th:only-of-type {\n",
              "        vertical-align: middle;\n",
              "    }\n",
              "\n",
              "    .dataframe tbody tr th {\n",
              "        vertical-align: top;\n",
              "    }\n",
              "\n",
              "    .dataframe thead th {\n",
              "        text-align: right;\n",
              "    }\n",
              "</style>\n",
              "<table border=\"1\" class=\"dataframe\">\n",
              "  <thead>\n",
              "    <tr style=\"text-align: right;\">\n",
              "      <th></th>\n",
              "      <th>Name</th>\n",
              "      <th>Type1</th>\n",
              "      <th>Type2</th>\n",
              "    </tr>\n",
              "  </thead>\n",
              "  <tbody>\n",
              "    <tr>\n",
              "      <th>0</th>\n",
              "      <td>bulbasaur</td>\n",
              "      <td>Grass</td>\n",
              "      <td>Poison</td>\n",
              "    </tr>\n",
              "    <tr>\n",
              "      <th>1</th>\n",
              "      <td>ivysaur</td>\n",
              "      <td>Grass</td>\n",
              "      <td>Poison</td>\n",
              "    </tr>\n",
              "    <tr>\n",
              "      <th>2</th>\n",
              "      <td>venusaur</td>\n",
              "      <td>Grass</td>\n",
              "      <td>Poison</td>\n",
              "    </tr>\n",
              "    <tr>\n",
              "      <th>3</th>\n",
              "      <td>charmander</td>\n",
              "      <td>Fire</td>\n",
              "      <td>NaN</td>\n",
              "    </tr>\n",
              "    <tr>\n",
              "      <th>4</th>\n",
              "      <td>charmeleon</td>\n",
              "      <td>Fire</td>\n",
              "      <td>NaN</td>\n",
              "    </tr>\n",
              "  </tbody>\n",
              "</table>\n",
              "</div>"
            ],
            "text/plain": [
              "         Name  Type1   Type2\n",
              "0   bulbasaur  Grass  Poison\n",
              "1     ivysaur  Grass  Poison\n",
              "2    venusaur  Grass  Poison\n",
              "3  charmander   Fire     NaN\n",
              "4  charmeleon   Fire     NaN"
            ]
          },
          "execution_count": 17,
          "metadata": {},
          "output_type": "execute_result"
        }
      ],
      "source": [
        "df.head()\n"
      ]
    },
    {
      "cell_type": "markdown",
      "metadata": {},
      "source": [
        "Pokemon are indexed by index (left column without name). Those numbers are just the order of pokemon in the `.csv` file.\n",
        "\n",
        "Simply, we can access them by slice of interger. This is possible because there is no colmun with `int` as value. So, it's clear we are referecing to the index."
      ]
    },
    {
      "cell_type": "code",
      "execution_count": 18,
      "metadata": {},
      "outputs": [
        {
          "data": {
            "text/html": [
              "<div>\n",
              "<style scoped>\n",
              "    .dataframe tbody tr th:only-of-type {\n",
              "        vertical-align: middle;\n",
              "    }\n",
              "\n",
              "    .dataframe tbody tr th {\n",
              "        vertical-align: top;\n",
              "    }\n",
              "\n",
              "    .dataframe thead th {\n",
              "        text-align: right;\n",
              "    }\n",
              "</style>\n",
              "<table border=\"1\" class=\"dataframe\">\n",
              "  <thead>\n",
              "    <tr style=\"text-align: right;\">\n",
              "      <th></th>\n",
              "      <th>Name</th>\n",
              "      <th>Type1</th>\n",
              "      <th>Type2</th>\n",
              "    </tr>\n",
              "  </thead>\n",
              "  <tbody>\n",
              "    <tr>\n",
              "      <th>3</th>\n",
              "      <td>charmander</td>\n",
              "      <td>Fire</td>\n",
              "      <td>NaN</td>\n",
              "    </tr>\n",
              "    <tr>\n",
              "      <th>4</th>\n",
              "      <td>charmeleon</td>\n",
              "      <td>Fire</td>\n",
              "      <td>NaN</td>\n",
              "    </tr>\n",
              "    <tr>\n",
              "      <th>5</th>\n",
              "      <td>charizard</td>\n",
              "      <td>Fire</td>\n",
              "      <td>Flying</td>\n",
              "    </tr>\n",
              "    <tr>\n",
              "      <th>6</th>\n",
              "      <td>squirtle</td>\n",
              "      <td>Water</td>\n",
              "      <td>NaN</td>\n",
              "    </tr>\n",
              "    <tr>\n",
              "      <th>7</th>\n",
              "      <td>wartortle</td>\n",
              "      <td>Water</td>\n",
              "      <td>NaN</td>\n",
              "    </tr>\n",
              "  </tbody>\n",
              "</table>\n",
              "</div>"
            ],
            "text/plain": [
              "         Name  Type1   Type2\n",
              "3  charmander   Fire     NaN\n",
              "4  charmeleon   Fire     NaN\n",
              "5   charizard   Fire  Flying\n",
              "6    squirtle  Water     NaN\n",
              "7   wartortle  Water     NaN"
            ]
          },
          "execution_count": 18,
          "metadata": {},
          "output_type": "execute_result"
        }
      ],
      "source": [
        "df[3:8]"
      ]
    },
    {
      "cell_type": "markdown",
      "metadata": {},
      "source": [
        "In case you have columns with `int` inside, you need to specify that you are looking for indexes."
      ]
    },
    {
      "cell_type": "code",
      "execution_count": 19,
      "metadata": {},
      "outputs": [
        {
          "data": {
            "text/html": [
              "<div>\n",
              "<style scoped>\n",
              "    .dataframe tbody tr th:only-of-type {\n",
              "        vertical-align: middle;\n",
              "    }\n",
              "\n",
              "    .dataframe tbody tr th {\n",
              "        vertical-align: top;\n",
              "    }\n",
              "\n",
              "    .dataframe thead th {\n",
              "        text-align: right;\n",
              "    }\n",
              "</style>\n",
              "<table border=\"1\" class=\"dataframe\">\n",
              "  <thead>\n",
              "    <tr style=\"text-align: right;\">\n",
              "      <th></th>\n",
              "      <th>Name</th>\n",
              "      <th>Type1</th>\n",
              "      <th>Type2</th>\n",
              "    </tr>\n",
              "  </thead>\n",
              "  <tbody>\n",
              "    <tr>\n",
              "      <th>3</th>\n",
              "      <td>charmander</td>\n",
              "      <td>Fire</td>\n",
              "      <td>NaN</td>\n",
              "    </tr>\n",
              "    <tr>\n",
              "      <th>4</th>\n",
              "      <td>charmeleon</td>\n",
              "      <td>Fire</td>\n",
              "      <td>NaN</td>\n",
              "    </tr>\n",
              "    <tr>\n",
              "      <th>5</th>\n",
              "      <td>charizard</td>\n",
              "      <td>Fire</td>\n",
              "      <td>Flying</td>\n",
              "    </tr>\n",
              "    <tr>\n",
              "      <th>6</th>\n",
              "      <td>squirtle</td>\n",
              "      <td>Water</td>\n",
              "      <td>NaN</td>\n",
              "    </tr>\n",
              "    <tr>\n",
              "      <th>7</th>\n",
              "      <td>wartortle</td>\n",
              "      <td>Water</td>\n",
              "      <td>NaN</td>\n",
              "    </tr>\n",
              "  </tbody>\n",
              "</table>\n",
              "</div>"
            ],
            "text/plain": [
              "         Name  Type1   Type2\n",
              "3  charmander   Fire     NaN\n",
              "4  charmeleon   Fire     NaN\n",
              "5   charizard   Fire  Flying\n",
              "6    squirtle  Water     NaN\n",
              "7   wartortle  Water     NaN"
            ]
          },
          "execution_count": 19,
          "metadata": {},
          "output_type": "execute_result"
        }
      ],
      "source": [
        "df.iloc[3:8]"
      ]
    },
    {
      "cell_type": "markdown",
      "metadata": {},
      "source": [
        "Also, we can pick some columns to see if some are not interesting for us. For example, we can be interested in `Name` of Pokemons only."
      ]
    },
    {
      "cell_type": "code",
      "execution_count": 20,
      "metadata": {},
      "outputs": [
        {
          "data": {
            "text/plain": [
              "0     bulbasaur\n",
              "1       ivysaur\n",
              "2      venusaur\n",
              "3    charmander\n",
              "4    charmeleon\n",
              "Name: Name, dtype: object"
            ]
          },
          "execution_count": 20,
          "metadata": {},
          "output_type": "execute_result"
        }
      ],
      "source": [
        "df['Name'].head()"
      ]
    },
    {
      "cell_type": "markdown",
      "metadata": {},
      "source": [
        "This work with a *tuple-like* notation: "
      ]
    },
    {
      "cell_type": "code",
      "execution_count": 21,
      "metadata": {},
      "outputs": [
        {
          "data": {
            "text/plain": [
              "0     bulbasaur\n",
              "1       ivysaur\n",
              "2      venusaur\n",
              "3    charmander\n",
              "4    charmeleon\n",
              "Name: Name, dtype: object"
            ]
          },
          "execution_count": 21,
          "metadata": {},
          "output_type": "execute_result"
        }
      ],
      "source": [
        "df.Name.head()"
      ]
    },
    {
      "cell_type": "markdown",
      "metadata": {},
      "source": [
        "Hopefully, we can mix the notation to pick some rows from our selected columns\n"
      ]
    },
    {
      "cell_type": "code",
      "execution_count": 22,
      "metadata": {},
      "outputs": [
        {
          "data": {
            "text/plain": [
              "3    charmander\n",
              "4    charmeleon\n",
              "5     charizard\n",
              "6      squirtle\n",
              "7     wartortle\n",
              "Name: Name, dtype: object"
            ]
          },
          "execution_count": 22,
          "metadata": {},
          "output_type": "execute_result"
        }
      ],
      "source": [
        "df.Name[3:8]"
      ]
    },
    {
      "cell_type": "markdown",
      "metadata": {},
      "source": [
        "We can note that when we are exctracting a single column then the output is a `Series` object."
      ]
    },
    {
      "cell_type": "code",
      "execution_count": 23,
      "metadata": {},
      "outputs": [
        {
          "data": {
            "text/plain": [
              "pandas.core.series.Series"
            ]
          },
          "execution_count": 23,
          "metadata": {},
          "output_type": "execute_result"
        }
      ],
      "source": [
        "type(df.Name)"
      ]
    },
    {
      "cell_type": "markdown",
      "metadata": {},
      "source": [
        "#### Filtering data\n",
        "\n",
        "Now we would like to filter the data. This filter operation is only applied on **view** of the `DataFrame`. Namely, the methods will return a view of the DataFrame while the original DataFrame remain unchanged.\n",
        "\n"
      ]
    },
    {
      "cell_type": "code",
      "execution_count": 29,
      "metadata": {},
      "outputs": [
        {
          "data": {
            "text/html": [
              "<div>\n",
              "<style scoped>\n",
              "    .dataframe tbody tr th:only-of-type {\n",
              "        vertical-align: middle;\n",
              "    }\n",
              "\n",
              "    .dataframe tbody tr th {\n",
              "        vertical-align: top;\n",
              "    }\n",
              "\n",
              "    .dataframe thead th {\n",
              "        text-align: right;\n",
              "    }\n",
              "</style>\n",
              "<table border=\"1\" class=\"dataframe\">\n",
              "  <thead>\n",
              "    <tr style=\"text-align: right;\">\n",
              "      <th></th>\n",
              "      <th>Name</th>\n",
              "      <th>Type1</th>\n",
              "      <th>Type2</th>\n",
              "    </tr>\n",
              "  </thead>\n",
              "  <tbody>\n",
              "    <tr>\n",
              "      <th>22</th>\n",
              "      <td>ekans</td>\n",
              "      <td>Poison</td>\n",
              "      <td>NaN</td>\n",
              "    </tr>\n",
              "    <tr>\n",
              "      <th>23</th>\n",
              "      <td>arbok</td>\n",
              "      <td>Poison</td>\n",
              "      <td>NaN</td>\n",
              "    </tr>\n",
              "    <tr>\n",
              "      <th>28</th>\n",
              "      <td>nidoran-f</td>\n",
              "      <td>Poison</td>\n",
              "      <td>NaN</td>\n",
              "    </tr>\n",
              "    <tr>\n",
              "      <th>29</th>\n",
              "      <td>nidorina</td>\n",
              "      <td>Poison</td>\n",
              "      <td>NaN</td>\n",
              "    </tr>\n",
              "    <tr>\n",
              "      <th>30</th>\n",
              "      <td>nidoqueen</td>\n",
              "      <td>Poison</td>\n",
              "      <td>Ground</td>\n",
              "    </tr>\n",
              "  </tbody>\n",
              "</table>\n",
              "</div>"
            ],
            "text/plain": [
              "         Name   Type1   Type2\n",
              "22      ekans  Poison     NaN\n",
              "23      arbok  Poison     NaN\n",
              "28  nidoran-f  Poison     NaN\n",
              "29   nidorina  Poison     NaN\n",
              "30  nidoqueen  Poison  Ground"
            ]
          },
          "execution_count": 29,
          "metadata": {},
          "output_type": "execute_result"
        }
      ],
      "source": [
        "df[df.Type1 == 'Poison'].head()"
      ]
    },
    {
      "cell_type": "markdown",
      "metadata": {},
      "source": [
        "We can easily stack condition"
      ]
    },
    {
      "cell_type": "code",
      "execution_count": 32,
      "metadata": {},
      "outputs": [
        {
          "data": {
            "text/html": [
              "<div>\n",
              "<style scoped>\n",
              "    .dataframe tbody tr th:only-of-type {\n",
              "        vertical-align: middle;\n",
              "    }\n",
              "\n",
              "    .dataframe tbody tr th {\n",
              "        vertical-align: top;\n",
              "    }\n",
              "\n",
              "    .dataframe thead th {\n",
              "        text-align: right;\n",
              "    }\n",
              "</style>\n",
              "<table border=\"1\" class=\"dataframe\">\n",
              "  <thead>\n",
              "    <tr style=\"text-align: right;\">\n",
              "      <th></th>\n",
              "      <th>Name</th>\n",
              "      <th>Type1</th>\n",
              "      <th>Type2</th>\n",
              "    </tr>\n",
              "  </thead>\n",
              "  <tbody>\n",
              "    <tr>\n",
              "      <th>690</th>\n",
              "      <td>dragalge</td>\n",
              "      <td>Poison</td>\n",
              "      <td>Dragon</td>\n",
              "    </tr>\n",
              "    <tr>\n",
              "      <th>803</th>\n",
              "      <td>naganadel</td>\n",
              "      <td>Poison</td>\n",
              "      <td>Dragon</td>\n",
              "    </tr>\n",
              "  </tbody>\n",
              "</table>\n",
              "</div>"
            ],
            "text/plain": [
              "          Name   Type1   Type2\n",
              "690   dragalge  Poison  Dragon\n",
              "803  naganadel  Poison  Dragon"
            ]
          },
          "execution_count": 32,
          "metadata": {},
          "output_type": "execute_result"
        }
      ],
      "source": [
        "df[(df.Type1 == 'Poison') & (df.Type2 == 'Dragon')]"
      ]
    },
    {
      "cell_type": "markdown",
      "metadata": {},
      "source": [
        "However, this syntax might be clunky to use. There is another one which can be - in some cases with complicated conditions - faster and more readable: `query` method."
      ]
    },
    {
      "cell_type": "code",
      "execution_count": 34,
      "metadata": {},
      "outputs": [
        {
          "data": {
            "text/html": [
              "<div>\n",
              "<style scoped>\n",
              "    .dataframe tbody tr th:only-of-type {\n",
              "        vertical-align: middle;\n",
              "    }\n",
              "\n",
              "    .dataframe tbody tr th {\n",
              "        vertical-align: top;\n",
              "    }\n",
              "\n",
              "    .dataframe thead th {\n",
              "        text-align: right;\n",
              "    }\n",
              "</style>\n",
              "<table border=\"1\" class=\"dataframe\">\n",
              "  <thead>\n",
              "    <tr style=\"text-align: right;\">\n",
              "      <th></th>\n",
              "      <th>Name</th>\n",
              "      <th>Type1</th>\n",
              "      <th>Type2</th>\n",
              "    </tr>\n",
              "  </thead>\n",
              "  <tbody>\n",
              "    <tr>\n",
              "      <th>690</th>\n",
              "      <td>dragalge</td>\n",
              "      <td>Poison</td>\n",
              "      <td>Dragon</td>\n",
              "    </tr>\n",
              "    <tr>\n",
              "      <th>803</th>\n",
              "      <td>naganadel</td>\n",
              "      <td>Poison</td>\n",
              "      <td>Dragon</td>\n",
              "    </tr>\n",
              "  </tbody>\n",
              "</table>\n",
              "</div>"
            ],
            "text/plain": [
              "          Name   Type1   Type2\n",
              "690   dragalge  Poison  Dragon\n",
              "803  naganadel  Poison  Dragon"
            ]
          },
          "execution_count": 34,
          "metadata": {},
          "output_type": "execute_result"
        }
      ],
      "source": [
        "df.query(\"Type1 == 'Poison' and Type2 == 'Dragon'\")"
      ]
    },
    {
      "cell_type": "markdown",
      "metadata": {},
      "source": [
        "You can pick your favorite from this :grinning:"
      ]
    },
    {
      "cell_type": "markdown",
      "metadata": {},
      "source": [
        "### Visualization of the dataset"
      ]
    },
    {
      "cell_type": "markdown",
      "metadata": {},
      "source": [
        "Plus, those objects allow you to have a quick idea of your data set: with the methods `info()` and `describe()`. Respectively, there are used for the data type of the index/columns and the stats of your data. \n",
        "\n",
        "*Note*: since our dataset contains only `str` objects, there is no much stats :tipping_hand_person:"
      ]
    },
    {
      "cell_type": "code",
      "execution_count": 35,
      "metadata": {},
      "outputs": [
        {
          "name": "stdout",
          "output_type": "stream",
          "text": [
            "<class 'pandas.core.frame.DataFrame'>\n",
            "RangeIndex: 809 entries, 0 to 808\n",
            "Data columns (total 3 columns):\n",
            " #   Column  Non-Null Count  Dtype \n",
            "---  ------  --------------  ----- \n",
            " 0   Name    809 non-null    object\n",
            " 1   Type1   809 non-null    object\n",
            " 2   Type2   405 non-null    object\n",
            "dtypes: object(3)\n",
            "memory usage: 19.1+ KB\n"
          ]
        }
      ],
      "source": [
        "df.info()"
      ]
    },
    {
      "cell_type": "code",
      "execution_count": 36,
      "metadata": {},
      "outputs": [
        {
          "data": {
            "text/html": [
              "<div>\n",
              "<style scoped>\n",
              "    .dataframe tbody tr th:only-of-type {\n",
              "        vertical-align: middle;\n",
              "    }\n",
              "\n",
              "    .dataframe tbody tr th {\n",
              "        vertical-align: top;\n",
              "    }\n",
              "\n",
              "    .dataframe thead th {\n",
              "        text-align: right;\n",
              "    }\n",
              "</style>\n",
              "<table border=\"1\" class=\"dataframe\">\n",
              "  <thead>\n",
              "    <tr style=\"text-align: right;\">\n",
              "      <th></th>\n",
              "      <th>Name</th>\n",
              "      <th>Type1</th>\n",
              "      <th>Type2</th>\n",
              "    </tr>\n",
              "  </thead>\n",
              "  <tbody>\n",
              "    <tr>\n",
              "      <th>count</th>\n",
              "      <td>809</td>\n",
              "      <td>809</td>\n",
              "      <td>405</td>\n",
              "    </tr>\n",
              "    <tr>\n",
              "      <th>unique</th>\n",
              "      <td>809</td>\n",
              "      <td>18</td>\n",
              "      <td>18</td>\n",
              "    </tr>\n",
              "    <tr>\n",
              "      <th>top</th>\n",
              "      <td>bulbasaur</td>\n",
              "      <td>Water</td>\n",
              "      <td>Flying</td>\n",
              "    </tr>\n",
              "    <tr>\n",
              "      <th>freq</th>\n",
              "      <td>1</td>\n",
              "      <td>114</td>\n",
              "      <td>95</td>\n",
              "    </tr>\n",
              "  </tbody>\n",
              "</table>\n",
              "</div>"
            ],
            "text/plain": [
              "             Name  Type1   Type2\n",
              "count         809    809     405\n",
              "unique        809     18      18\n",
              "top     bulbasaur  Water  Flying\n",
              "freq            1    114      95"
            ]
          },
          "execution_count": 36,
          "metadata": {},
          "output_type": "execute_result"
        }
      ],
      "source": [
        "df.describe()"
      ]
    },
    {
      "cell_type": "markdown",
      "metadata": {},
      "source": [
        "Finally, some `matplotlib` are embedded with `pandas`."
      ]
    },
    {
      "cell_type": "code",
      "execution_count": 40,
      "metadata": {},
      "outputs": [
        {
          "data": {
            "image/png": "[encoded data removed]",
            "text/plain": [
              "<Figure size 2000x1500 with 1 Axes>"
            ]
          },
          "metadata": {},
          "output_type": "display_data"
        },
        {
          "data": {
            "text/plain": [
              "<Figure size 640x480 with 0 Axes>"
            ]
          },
          "metadata": {},
          "output_type": "display_data"
        }
      ],
      "source": [
        "fig = plt.figure(figsize=(20, 15))\n",
        "ax = fig.gca()\n",
        "df.Type1.hist(ax=ax, density=1)\n",
        "ax.set_ylabel(\"% of Type1\")\n",
        "plt.figure()\n",
        "plt.show()"
      ]
    },
    {
      "cell_type": "code",
      "execution_count": 6,
      "metadata": {
        "colab": {
          "base_uri": "https://localhost:8080/",
          "height": 238
        },
        "id": "HCtcLnB65WZP",
        "outputId": "590fa794-5972-48a8-d06f-5ddd296f62bc"
      },
      "outputs": [
        {
          "data": {
            "text/html": [
              "\n",
              "  <div id=\"df-a70621d2-fd40-4ea5-8332-459483edf4ac\">\n",
              "    <div class=\"colab-df-container\">\n",
              "      <div>\n",
              "<style scoped>\n",
              "    .dataframe tbody tr th:only-of-type {\n",
              "        vertical-align: middle;\n",
              "    }\n",
              "\n",
              "    .dataframe tbody tr th {\n",
              "        vertical-align: top;\n",
              "    }\n",
              "\n",
              "    .dataframe thead th {\n",
              "        text-align: right;\n",
              "    }\n",
              "</style>\n",
              "<table border=\"1\" class=\"dataframe\">\n",
              "  <thead>\n",
              "    <tr style=\"text-align: right;\">\n",
              "      <th></th>\n",
              "      <th>Type1</th>\n",
              "      <th>Type2</th>\n",
              "      <th>Red</th>\n",
              "      <th>Green</th>\n",
              "      <th>Blue</th>\n",
              "    </tr>\n",
              "    <tr>\n",
              "      <th>Name</th>\n",
              "      <th></th>\n",
              "      <th></th>\n",
              "      <th></th>\n",
              "      <th></th>\n",
              "      <th></th>\n",
              "    </tr>\n",
              "  </thead>\n",
              "  <tbody>\n",
              "    <tr>\n",
              "      <th>bulbasaur</th>\n",
              "      <td>Grass</td>\n",
              "      <td>Poison</td>\n",
              "      <td>0.544665</td>\n",
              "      <td>0.759502</td>\n",
              "      <td>0.629522</td>\n",
              "    </tr>\n",
              "    <tr>\n",
              "      <th>ivysaur</th>\n",
              "      <td>Grass</td>\n",
              "      <td>Poison</td>\n",
              "      <td>0.556356</td>\n",
              "      <td>0.602366</td>\n",
              "      <td>0.630614</td>\n",
              "    </tr>\n",
              "    <tr>\n",
              "      <th>venusaur</th>\n",
              "      <td>Grass</td>\n",
              "      <td>Poison</td>\n",
              "      <td>0.558999</td>\n",
              "      <td>0.691057</td>\n",
              "      <td>0.665540</td>\n",
              "    </tr>\n",
              "    <tr>\n",
              "      <th>charmander</th>\n",
              "      <td>Fire</td>\n",
              "      <td>NaN</td>\n",
              "      <td>0.854908</td>\n",
              "      <td>0.693344</td>\n",
              "      <td>0.478425</td>\n",
              "    </tr>\n",
              "    <tr>\n",
              "      <th>charmeleon</th>\n",
              "      <td>Fire</td>\n",
              "      <td>NaN</td>\n",
              "      <td>0.882350</td>\n",
              "      <td>0.580476</td>\n",
              "      <td>0.455418</td>\n",
              "    </tr>\n",
              "  </tbody>\n",
              "</table>\n",
              "</div>\n",
              "      <button class=\"colab-df-convert\" onclick=\"convertToInteractive('df-a70621d2-fd40-4ea5-8332-459483edf4ac')\"\n",
              "              title=\"Convert this dataframe to an interactive table.\"\n",
              "              style=\"display:none;\">\n",
              "        \n",
              "  <svg xmlns=\"http://www.w3.org/2000/svg\" height=\"24px\"viewBox=\"0 0 24 24\"\n",
              "       width=\"24px\">\n",
              "    <path d=\"M0 0h24v24H0V0z\" fill=\"none\"/>\n",
              "    <path d=\"M18.56 5.44l.94 2.06.94-2.06 2.06-.94-2.06-.94-.94-2.06-.94 2.06-2.06.94zm-11 1L8.5 8.5l.94-2.06 2.06-.94-2.06-.94L8.5 2.5l-.94 2.06-2.06.94zm10 10l.94 2.06.94-2.06 2.06-.94-2.06-.94-.94-2.06-.94 2.06-2.06.94z\"/><path d=\"M17.41 7.96l-1.37-1.37c-.4-.4-.92-.59-1.43-.59-.52 0-1.04.2-1.43.59L10.3 9.45l-7.72 7.72c-.78.78-.78 2.05 0 2.83L4 21.41c.39.39.9.59 1.41.59.51 0 1.02-.2 1.41-.59l7.78-7.78 2.81-2.81c.8-.78.8-2.07 0-2.86zM5.41 20L4 18.59l7.72-7.72 1.47 1.35L5.41 20z\"/>\n",
              "  </svg>\n",
              "      </button>\n",
              "      \n",
              "  <style>\n",
              "    .colab-df-container {\n",
              "      display:flex;\n",
              "      flex-wrap:wrap;\n",
              "      gap: 12px;\n",
              "    }\n",
              "\n",
              "    .colab-df-convert {\n",
              "      background-color: #E8F0FE;\n",
              "      border: none;\n",
              "      border-radius: 50%;\n",
              "      cursor: pointer;\n",
              "      display: none;\n",
              "      fill: #1967D2;\n",
              "      height: 32px;\n",
              "      padding: 0 0 0 0;\n",
              "      width: 32px;\n",
              "    }\n",
              "\n",
              "    .colab-df-convert:hover {\n",
              "      background-color: #E2EBFA;\n",
              "      box-shadow: 0px 1px 2px rgba(60, 64, 67, 0.3), 0px 1px 3px 1px rgba(60, 64, 67, 0.15);\n",
              "      fill: #174EA6;\n",
              "    }\n",
              "\n",
              "    [theme=dark] .colab-df-convert {\n",
              "      background-color: #3B4455;\n",
              "      fill: #D2E3FC;\n",
              "    }\n",
              "\n",
              "    [theme=dark] .colab-df-convert:hover {\n",
              "      background-color: #434B5C;\n",
              "      box-shadow: 0px 1px 3px 1px rgba(0, 0, 0, 0.15);\n",
              "      filter: drop-shadow(0px 1px 2px rgba(0, 0, 0, 0.3));\n",
              "      fill: #FFFFFF;\n",
              "    }\n",
              "  </style>\n",
              "\n",
              "      <script>\n",
              "        const buttonEl =\n",
              "          document.querySelector('#df-a70621d2-fd40-4ea5-8332-459483edf4ac button.colab-df-convert');\n",
              "        buttonEl.style.display =\n",
              "          google.colab.kernel.accessAllowed ? 'block' : 'none';\n",
              "\n",
              "        async function convertToInteractive(key) {\n",
              "          const element = document.querySelector('#df-a70621d2-fd40-4ea5-8332-459483edf4ac');\n",
              "          const dataTable =\n",
              "            await google.colab.kernel.invokeFunction('convertToInteractive',\n",
              "                                                     [key], {});\n",
              "          if (!dataTable) return;\n",
              "\n",
              "          const docLinkHtml = 'Like what you see? Visit the ' +\n",
              "            '<a target=\"_blank\" href=https://colab.research.google.com/notebooks/data_table.ipynb>data table notebook</a>'\n",
              "            + ' to learn more about interactive tables.';\n",
              "          element.innerHTML = '';\n",
              "          dataTable['output_type'] = 'display_data';\n",
              "          await google.colab.output.renderOutput(dataTable, element);\n",
              "          const docLink = document.createElement('div');\n",
              "          docLink.innerHTML = docLinkHtml;\n",
              "          element.appendChild(docLink);\n",
              "        }\n",
              "      </script>\n",
              "    </div>\n",
              "  </div>\n",
              "  "
            ],
            "text/plain": [
              "            Type1   Type2       Red     Green      Blue\n",
              "Name                                                   \n",
              "bulbasaur   Grass  Poison  0.544665  0.759502  0.629522\n",
              "ivysaur     Grass  Poison  0.556356  0.602366  0.630614\n",
              "venusaur    Grass  Poison  0.558999  0.691057  0.665540\n",
              "charmander   Fire     NaN  0.854908  0.693344  0.478425\n",
              "charmeleon   Fire     NaN  0.882350  0.580476  0.455418"
            ]
          },
          "execution_count": 6,
          "metadata": {},
          "output_type": "execute_result"
        }
      ],
      "source": [
        "# Import data\n",
        "path_images_dir: Path = Path.cwd() / \"images\"\n",
        "\n",
        "# Get the RGB mean of the picture PNG pictures\n",
        "dict_mean: Dict[str, np.ndarray] = {\n",
        "    filename.stem: mean_image(\n",
        "        img_as_float(io.imread(filename))\n",
        "    )\n",
        "    for filename in path_images_dir.iterdir()\n",
        "    if filename.suffix == \".png\"\n",
        "}\n",
        "\n",
        "# Function that make a new RGB column based on dict_mean\n",
        "\n",
        "\n",
        "def mapping(row, list_mean, i):\n",
        "    return (\n",
        "        dict_mean[row.name][i]\n",
        "        if row.name in dict_mean.keys()\n",
        "        else np.NAN\n",
        "    )\n",
        "\n",
        "\n",
        "# Make new column\n",
        "col_list: List[str] = [\"Red\", \"Green\", \"Blue\"]\n",
        "for i, col in enumerate(col_list):\n",
        "    # Apply methods is a way to generate series from dataframe and other row\n",
        "    # The function used as argument for apply must have only one argument: the row\n",
        "    # that's why the lambda take only one argument but mapping can take more.\n",
        "    # https://pandas.pydata.org/docs/reference/api/pandas.DataFrame.apply.html\n",
        "    df[col] = df.apply(lambda row: mapping(row, dict_mean, i), axis=1)\n",
        "\n",
        "df.head()\n"
      ]
    },
    {
      "cell_type": "code",
      "execution_count": 8,
      "metadata": {
        "colab": {
          "base_uri": "https://localhost:8080/"
        },
        "id": "GFSRxpray9zg",
        "outputId": "0c56db97-1678-4ae4-bcb9-49e81fe01e99"
      },
      "outputs": [
        {
          "name": "stdout",
          "output_type": "stream",
          "text": [
            "                   Type1   Type2       Red     Green      Blue\n",
            "Name                                                          \n",
            "abomasnow          Grass     Ice  0.757895  0.822524  0.817889\n",
            "abra             Psychic     NaN  0.805204  0.761586  0.239281\n",
            "absol               Dark     NaN  0.755053  0.765394  0.816313\n",
            "accelgor             Bug     NaN  0.594447  0.476965  0.543438\n",
            "aegislash-blade    Steel   Ghost  0.631556  0.580437  0.475241\n",
            "...                  ...     ...       ...       ...       ...\n",
            "zoroark             Dark     NaN  0.378221  0.215354  0.269813\n",
            "zorua               Dark     NaN  0.372739  0.293972  0.386525\n",
            "zubat             Poison  Flying  0.440474  0.367767  0.523906\n",
            "zweilous            Dark  Dragon  0.360254  0.365755  0.400055\n",
            "zygarde-50        Dragon  Ground  0.386607  0.434725  0.245167\n",
            "\n",
            "[809 rows x 5 columns]\n",
            "            Type1   Type2       Red     Green      Blue\n",
            "Name                                                   \n",
            "durant        Bug   Steel  0.507184  0.491327  0.493010\n",
            "yanma         Bug  Flying  0.551139  0.455072  0.230780\n",
            "karrablast    Bug     NaN  0.389407  0.504762  0.473226\n",
            "surskit       Bug   Water  0.490935  0.660671  0.713633\n",
            "masquerain    Bug  Flying  0.871478  0.733066  0.679070\n",
            "...           ...     ...       ...       ...       ...\n",
            "jellicent   Water   Ghost  0.709160  0.849764  0.930179\n",
            "samurott    Water     NaN  0.476350  0.557630  0.625282\n",
            "frillish    Water   Ghost  0.623561  0.814382  0.854210\n",
            "palkia      Water  Dragon  0.746259  0.696652  0.745721\n",
            "dewott      Water     NaN  0.442766  0.612891  0.667655\n",
            "\n",
            "[809 rows x 5 columns]\n"
          ]
        }
      ],
      "source": [
        "# We can sort pokemon by indexes for example\n",
        "print(df.sort_index())\n",
        "\n",
        "# We can all sort by a values\n",
        "print(df.sort_values(\"Type1\"))\n"
      ]
    },
    {
      "cell_type": "code",
      "execution_count": 9,
      "metadata": {
        "colab": {
          "base_uri": "https://localhost:8080/"
        },
        "id": "D0H-_qY13Wb0",
        "outputId": "92c76da4-2d66-4873-9d5b-cdef7a5cd89d"
      },
      "outputs": [
        {
          "name": "stdout",
          "output_type": "stream",
          "text": [
            "pikachu: \n",
            "Type1    Electric\n",
            "Type2         NaN\n",
            "Red       0.88826\n",
            "Green    0.816296\n",
            "Blue     0.419125\n",
            "Name: pikachu, dtype: object\n",
            "\n",
            "RGB pikachu cols only: \n",
            "Red       0.88826\n",
            "Green    0.816296\n",
            "Blue     0.419125\n",
            "Name: pikachu, dtype: object\n",
            "\n",
            "Only computed RGB rows: \n",
            "                     Red     Green      Blue\n",
            "Name                                        \n",
            "bulbasaur       0.544665  0.759502  0.629522\n",
            "ivysaur         0.556356  0.602366  0.630614\n",
            "venusaur        0.558999  0.691057  0.665540\n",
            "charmander      0.854908  0.693344  0.478425\n",
            "charmeleon      0.882350  0.580476  0.455418\n",
            "...                  ...       ...       ...\n",
            "yveltal         0.359542  0.215458  0.244978\n",
            "zygarde-50      0.386607  0.434725  0.245167\n",
            "diancie         0.680049  0.572781  0.666352\n",
            "hoopa-confined  0.764505  0.602667  0.550739\n",
            "volcanion       0.689975  0.383400  0.346466\n",
            "\n",
            "[721 rows x 3 columns]\n",
            "\n",
            "Difference RGB between pikachu and the rest: \n",
            "                       Red      Green       Blue\n",
            "Name                                            \n",
            "bulbasaur         0.343596  0.0567943  -0.210398\n",
            "ivysaur           0.331904    0.21393   -0.21149\n",
            "venusaur          0.329262   0.125239  -0.246415\n",
            "charmander       0.0333519   0.122952 -0.0593003\n",
            "charmeleon      0.00591013   0.235821 -0.0362938\n",
            "...                    ...        ...        ...\n",
            "yveltal           0.528718   0.600839   0.174147\n",
            "zygarde-50        0.501653   0.381571   0.173958\n",
            "diancie           0.208211   0.243515  -0.247228\n",
            "hoopa-confined    0.123756    0.21363  -0.131614\n",
            "volcanion         0.198285   0.432897  0.0726588\n",
            "\n",
            "[721 rows x 3 columns]\n",
            "\n",
            "Squared L2 (squared difference): \n",
            "                        Red       Green        Blue\n",
            "Name                                               \n",
            "bulbasaur          0.118058  0.00322559   0.0442672\n",
            "ivysaur            0.110161   0.0457662   0.0447279\n",
            "venusaur           0.108413   0.0156849   0.0607203\n",
            "charmander       0.00111235   0.0151172  0.00351652\n",
            "charmeleon      3.49296e-05   0.0556114  0.00131724\n",
            "...                     ...         ...         ...\n",
            "yveltal            0.279543    0.361007   0.0303271\n",
            "zygarde-50         0.251656    0.145597   0.0302613\n",
            "diancie            0.043352   0.0592996   0.0611215\n",
            "hoopa-confined    0.0153155   0.0456376   0.0173223\n",
            "volcanion         0.0393169    0.187399   0.0052793\n",
            "\n",
            "[721 rows x 3 columns]\n",
            "\n",
            "Mean square L2 by row: \n",
            "Name\n",
            "bulbasaur         0.055184\n",
            "ivysaur           0.066885\n",
            "venusaur          0.061606\n",
            "charmander        0.006582\n",
            "charmeleon        0.018988\n",
            "                    ...   \n",
            "yveltal           0.223626\n",
            "zygarde-50        0.142505\n",
            "diancie           0.054591\n",
            "hoopa-confined    0.026092\n",
            "volcanion         0.077332\n",
            "Length: 721, dtype: float64\n",
            "\n"
          ]
        }
      ],
      "source": [
        "# Now we will try to get Pikachu and compare his squared L2 distance - euclidean\n",
        "# - of its RGB column to other pokemon in the database.\n",
        "# Plus the squared L2 distance of each column is average for each line. It gives\n",
        "# a series\n",
        "\n",
        "# Pikachu row\n",
        "pikachu_row = df.loc[\"pikachu\"]\n",
        "rgb_pikachu_row = pikachu_row[col_list]\n",
        "print(\n",
        "    f\"pikachu: \\n{pikachu_row}\\n\\n\"\n",
        "    f\"RGB pikachu cols only: \\n{rgb_pikachu_row}\\n\"\n",
        ")\n",
        "# RGB db only\n",
        "db_rgb_without_jpg = df[col_list].dropna()\n",
        "print(\n",
        "    f\"Only computed RGB rows: \\n{db_rgb_without_jpg}\\n\"\n",
        ")\n",
        "# Difference\n",
        "diff_dataframe = rgb_pikachu_row - db_rgb_without_jpg\n",
        "print(\n",
        "    f\"Difference RGB between pikachu and the rest: \\n{diff_dataframe}\\n\"\n",
        ")\n",
        "# Compute squared L2\n",
        "l2_diff_dataframe = diff_dataframe.pow(2)\n",
        "print(\n",
        "    f\"Squared L2 (squared difference): \\n{l2_diff_dataframe}\\n\"\n",
        ")\n",
        "# Mean square L2 by row\n",
        "# 1 is about the axis : axis 1 is axis of column, we want a mean along the\n",
        "# different value of RGB channels.\n",
        "average_L2_diff_series = l2_diff_dataframe.mean(1)\n",
        "print(\n",
        "    f\"Mean square L2 by row: \\n{average_L2_diff_series}\\n\"\n",
        ")\n"
      ]
    },
    {
      "cell_type": "code",
      "execution_count": 10,
      "metadata": {
        "colab": {
          "base_uri": "https://localhost:8080/"
        },
        "id": "pHnmV9mmxfP_",
        "outputId": "3a5faebc-3037-454f-8078-7791c65b269a"
      },
      "outputs": [
        {
          "name": "stdout",
          "output_type": "stream",
          "text": [
            "Name\n",
            "bulbasaur         0.055184\n",
            "ivysaur           0.066885\n",
            "venusaur          0.061606\n",
            "charmander        0.006582\n",
            "charmeleon        0.018988\n",
            "                    ...   \n",
            "yveltal           0.223626\n",
            "zygarde-50        0.142505\n",
            "diancie           0.054591\n",
            "hoopa-confined    0.026092\n",
            "volcanion         0.077332\n",
            "Length: 721, dtype: float64\n"
          ]
        }
      ],
      "source": [
        "# The same operation can be done in one line operation\n",
        "# That's why pandas is a powerful library that is worth it to learn\n",
        "# knowing that the syntax is pretty intuitive.\n",
        "series_distance = (\n",
        "    df[col_list].dropna() - df.loc[\"pikachu\"][col_list]\n",
        ").pow(2).mean(1)\n",
        "print(series_distance)\n"
      ]
    }
  ],
  "metadata": {
    "colab": {
      "name": "pandas_intro.ipynb",
      "provenance": []
    },
    "kernelspec": {
      "display_name": "Python 3.8.10 ('env': venv)",
      "language": "python",
      "name": "python3"
    },
    "language_info": {
      "codemirror_mode": {
        "name": "ipython",
        "version": 3
      },
      "file_extension": ".py",
      "mimetype": "text/x-python",
      "name": "python",
      "nbconvert_exporter": "python",
      "pygments_lexer": "ipython3",
      "version": "3.8.10"
    },
    "orig_nbformat": 4,
    "vscode": {
      "interpreter": {
        "hash": "d06f5c508cb6d412c5fc39a624b56d5d87ea0c4834e1bf11b5c4d9b980382d19"
      }
    }
  },
  "nbformat": 4,
  "nbformat_minor": 0
}
