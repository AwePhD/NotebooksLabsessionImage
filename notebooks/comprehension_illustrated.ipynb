{
  "cells": [
    {
      "cell_type": "code",
      "execution_count": null,
      "metadata": {
        "colab": {
          "base_uri": "https://localhost:8080/"
        },
        "id": "zKBr5mgKRV1g",
        "outputId": "cdb40580-385c-426c-e31d-770f44798914",
        "slideshow": {
          "slide_type": "skip"
        }
      },
      "outputs": [],
      "source": [
        "# Install the environnement\n",
        "%pip install git+https://github.com/AwePhD/NotebooksLabsessionImage.git"
      ]
    },
    {
      "cell_type": "code",
      "execution_count": null,
      "metadata": {
        "colab": {
          "base_uri": "https://localhost:8080/"
        },
        "id": "tSv2bpyERV1k",
        "outputId": "67389fa1-d5d9-4547-d296-cd8db57234f5",
        "slideshow": {
          "slide_type": "skip"
        }
      },
      "outputs": [],
      "source": [
        "# Import dataset \n",
        "# Can be found at https://www.kaggle.com/vishalsubbiah/pokemon-images-and-types\n",
        "!rm -rf ./*\n",
        "!curl -LO https://github.com/AwePhD/NotebooksLabsessionImage/raw/main/pokemon_dataset.zip\n",
        "!unzip -qq pokemon_dataset.zip\n",
        "!rm pokemon_dataset.zip"
      ]
    },
    {
      "cell_type": "code",
      "execution_count": null,
      "metadata": {
        "id": "jjJJ1JydRV1l",
        "slideshow": {
          "slide_type": "skip"
        }
      },
      "outputs": [],
      "source": [
        "# Standard imports\n",
        "from pathlib import Path\n",
        "from pprint import pprint\n",
        "from typing import List, Dict\n",
        "\n",
        "# Third party imports\n",
        "import numpy as np\n",
        "import matplotlib.pyplot as plt\n",
        "from skimage import io\n",
        "from skimage import data\n",
        "from skimage import img_as_float, img_as_ubyte\n",
        "\n",
        "# Local imports\n",
        "from NLI.utils import (\n",
        "    iprint,\n",
        "    print_img_info\n",
        ")"
      ]
    },
    {
      "cell_type": "markdown",
      "metadata": {
        "id": "CZkEgeiziuPQ",
        "slideshow": {
          "slide_type": "slide"
        }
      },
      "source": [
        "## Introduction to the pythonic comprehension\n",
        "\n",
        "Writing actual Python code means to write *pythonic* code. This is a set of practices which are shared withing the community that makes you standard, readable and professional and efficient at writing Python code. **Comprehension** is one of the most well spread *pythonic* concepts."
      ]
    },
    {
      "cell_type": "markdown",
      "metadata": {
        "slideshow": {
          "slide_type": "subslide"
        }
      },
      "source": [
        "### List comprehension\n",
        "\n",
        "List comprehension are **only** meant to build a list from another object. Plus, a list comprehension is *usually* a bit faster than a regular loop ([SO reply](https://stackoverflow.com/a/22108640)) and more natural than a loop structure - once we are used to it! \n",
        "\n",
        "Here we are going to illustrate a list comprehension. We have a list of names $\\{\\text{Alice, Adam, Bob, Bertrand, Céline}\\}$. The point is to retrieve each noun beginning by an $\\text{A}$."
      ]
    },
    {
      "cell_type": "code",
      "execution_count": null,
      "metadata": {
        "colab": {
          "base_uri": "https://localhost:8080/"
        },
        "id": "7qEOWa81jvZT",
        "outputId": "cee0dfaa-3e0d-412c-f4e5-12c9e7e8ad3f",
        "slideshow": {
          "slide_type": "fragment"
        }
      },
      "outputs": [],
      "source": [
        "names_list: List[str] = [\"Alice\", \"adam\", \"Bob\", \"Bertrand\", \"céline\"]\n",
        "print(f\"name_list: {names_list}\\n\")"
      ]
    },
    {
      "cell_type": "markdown",
      "metadata": {
        "slideshow": {
          "slide_type": "subslide"
        }
      },
      "source": [
        "Then there is the classic way to loop over the `name_list` in order to create a new list with names beginning with an $\\text{A}$."
      ]
    },
    {
      "cell_type": "code",
      "execution_count": null,
      "metadata": {
        "slideshow": {
          "slide_type": "fragment"
        }
      },
      "outputs": [],
      "source": [
        "A_names_list: List[str] = []\n",
        "for name in names_list:\n",
        "  if name[0] == 'A':\n",
        "    A_names_list.append(name)\n",
        "print(f\"A_name_list: {A_names_list}\\n\")"
      ]
    },
    {
      "cell_type": "markdown",
      "metadata": {
        "slideshow": {
          "slide_type": "subslide"
        }
      },
      "source": [
        "Now, we are going to write the list comprehension in a one liner*. The **main** idea of a list comprehension is to generate _right away_ the final list: the list of the names beginning with an $\\text{A}$.\n",
        "\n",
        "Here, we basically take each name in the original tab with `for name in name_list` then we added a guard `if name[0] == 'A'` in order to filter which name we are keeping. \n",
        "\n",
        "*: we expanded the expression on several lines for readibility. It could have been done in one line if we remove the new line characters."
      ]
    },
    {
      "cell_type": "code",
      "execution_count": null,
      "metadata": {
        "slideshow": {
          "slide_type": "fragment"
        }
      },
      "outputs": [],
      "source": [
        "A_name_list_c: List[str] = [\n",
        "  name\n",
        "  for name in names_list\n",
        "  if name[0] == 'A'\n",
        "]\n",
        "\n",
        "print(f\"A_name_list: {A_name_list_c}\\n\")"
      ]
    },
    {
      "cell_type": "markdown",
      "metadata": {
        "slideshow": {
          "slide_type": "subslide"
        }
      },
      "source": [
        "We do not have to use the `if` guard for the list comprehension. Let's consider we want to generate the same list of names with names in title, namely these names should have the first letter capitalized."
      ]
    },
    {
      "cell_type": "code",
      "execution_count": null,
      "metadata": {
        "slideshow": {
          "slide_type": "fragment"
        }
      },
      "outputs": [],
      "source": [
        "A_name_list_c: List[str] = [\n",
        "  name.title()\n",
        "  for name in names_list\n",
        "]\n",
        "\n",
        "print(f\"A_name_list: {A_name_list_c}\\n\")"
      ]
    },
    {
      "cell_type": "markdown",
      "metadata": {
        "slideshow": {
          "slide_type": "fragment"
        }
      },
      "source": [
        "Note, the mean vectors are lame and not very representative in this case. A lot of pixel are taken in consideration while their pixel have are white or / and transparent The solution would be to compute the mean from a masked image version. "
      ]
    },
    {
      "cell_type": "markdown",
      "metadata": {
        "id": "2kZhNGY1jDGZ",
        "slideshow": {
          "slide_type": "slide"
        }
      },
      "source": [
        "### Dictionnary comprehension\n",
        "\n",
        "Another common data structure in Python is the dictionnary. This is a mapping between a _simple_ element - hashable - and another data structure. For example, dictionnary have keys (the simple element) with the name of the picture and has as value the mean vector of the picture.\n",
        "\n",
        "__Tips__: List can be seen as special dictionnary where keys are indexes. With dictionnary, we do not need to have indexes, the keys are the index."
      ]
    },
    {
      "cell_type": "markdown",
      "metadata": {
        "slideshow": {
          "slide_type": "subslide"
        }
      },
      "source": [
        "#### Hashable ?\n",
        "\n",
        "To ellaborate a bit further about hashing, this means that there is a way for Python to determine an ID for the Python variable that contain every information about this object and **will never change**."
      ]
    },
    {
      "cell_type": "code",
      "execution_count": null,
      "metadata": {
        "slideshow": {
          "slide_type": "fragment"
        }
      },
      "outputs": [],
      "source": [
        "hash(tuple())"
      ]
    },
    {
      "cell_type": "code",
      "execution_count": null,
      "metadata": {
        "slideshow": {
          "slide_type": "fragment"
        }
      },
      "outputs": [],
      "source": [
        "hash(list())"
      ]
    },
    {
      "cell_type": "markdown",
      "metadata": {
        "slideshow": {
          "slide_type": "subslide"
        }
      },
      "source": [
        "💀 **Warning**: it's possible that a tuple cannot be hashable though. If the tuple is containing an object that can change, then the hash is not possible."
      ]
    },
    {
      "cell_type": "code",
      "execution_count": null,
      "metadata": {
        "slideshow": {
          "slide_type": "fragment"
        }
      },
      "outputs": [],
      "source": [
        "tuple_unhashable = (5, list())\n",
        "hash(tuple_unhashable)\n"
      ]
    },
    {
      "cell_type": "markdown",
      "metadata": {
        "slideshow": {
          "slide_type": "subslide"
        }
      },
      "source": [
        "To sum up, any hashable object can be set as key and any object - at all - can be set as value in a dictionnary."
      ]
    },
    {
      "cell_type": "code",
      "execution_count": null,
      "metadata": {
        "slideshow": {
          "slide_type": "fragment"
        }
      },
      "outputs": [],
      "source": [
        "sample_dict = {\n",
        "    (5, 2): \"value 1\",\n",
        "    \"key 2\": list(),\n",
        "}\n",
        "\n",
        "# We can access the elements with this syntax\n",
        "sample_dict[\"key 2\"]"
      ]
    },
    {
      "cell_type": "markdown",
      "metadata": {
        "slideshow": {
          "slide_type": "slide"
        }
      },
      "source": [
        "#### Simple dictionnary example\n",
        "\n",
        "Let's take a student record: each student has a name and a grad assigned."
      ]
    },
    {
      "cell_type": "code",
      "execution_count": null,
      "metadata": {
        "slideshow": {
          "slide_type": "fragment"
        }
      },
      "outputs": [],
      "source": [
        "student_records = (\n",
        "    (\"Alice\", 19),\n",
        "    (\"Bertrand\", 20),\n",
        "    (\"Céline\", 15),\n",
        "    (\"Sarah\", 19),\n",
        "    (\"Henry David\", 10),\n",
        ")\n",
        "\n",
        "print(student_records)"
      ]
    },
    {
      "cell_type": "markdown",
      "metadata": {
        "slideshow": {
          "slide_type": "subslide"
        }
      },
      "source": [
        "We can do that with a classic loop. It would take some lines of code as follows:"
      ]
    },
    {
      "cell_type": "code",
      "execution_count": null,
      "metadata": {
        "slideshow": {
          "slide_type": "fragment"
        }
      },
      "outputs": [],
      "source": [
        "grade_by_student_name = dict()\n",
        "for student_record in student_records:\n",
        "    grade_by_student_name[student_record[0]] = student_record[1]\n",
        "    \n",
        "print(grade_by_student_name)"
      ]
    },
    {
      "cell_type": "markdown",
      "metadata": {
        "slideshow": {
          "slide_type": "subslide"
        }
      },
      "source": [
        "With list comprehension we can do a one liner as previously seen with list"
      ]
    },
    {
      "cell_type": "code",
      "execution_count": null,
      "metadata": {
        "slideshow": {
          "slide_type": "fragment"
        }
      },
      "outputs": [],
      "source": [
        "{\n",
        "    student_record[0]: student_record[1]\n",
        "    for student_record in student_records\n",
        "}"
      ]
    },
    {
      "cell_type": "markdown",
      "metadata": {
        "slideshow": {
          "slide_type": "fragment"
        }
      },
      "source": [
        "Also, we can add an `if` guard to add exclude some values."
      ]
    },
    {
      "cell_type": "code",
      "execution_count": null,
      "metadata": {
        "slideshow": {
          "slide_type": "fragment"
        }
      },
      "outputs": [],
      "source": [
        "{\n",
        "    student_record[0]: student_record[1]\n",
        "    for student_record in student_records\n",
        "    if student_record[1] > 18\n",
        "}"
      ]
    },
    {
      "cell_type": "markdown",
      "metadata": {
        "slideshow": {
          "slide_type": "slide"
        }
      },
      "source": [
        "## Apply comprehension to image data\n",
        "\n",
        "How to get data from files and path is explained in the Path collab.\n",
        "\n",
        "[![Open In Collab](https://colab.research.google.com/assets/colab-badge.svg)](https://colab.research.google.com/github/AwePhD/NotebooksLabsessionImage/blob/main/notebooks/manage_path.ipynb)"
      ]
    },
    {
      "cell_type": "code",
      "execution_count": null,
      "metadata": {
        "slideshow": {
          "slide_type": "fragment"
        }
      },
      "outputs": [],
      "source": [
        "path_images_dir: Path = Path.cwd() / \"images\""
      ]
    },
    {
      "cell_type": "markdown",
      "metadata": {
        "id": "lpZ1fEk3i8t9",
        "slideshow": {
          "slide_type": "subslide"
        }
      },
      "source": [
        "### A list to store the mean of images\n",
        "\n",
        "Here, we want to use the new shiny list comprehension to do some image processing. For this, we have `path_images_dir` which is the directory of containing all the images. In a single line of code we can iter into this directory and compute the mean with a friendly syntax."
      ]
    },
    {
      "cell_type": "code",
      "execution_count": null,
      "metadata": {
        "colab": {
          "base_uri": "https://localhost:8080/"
        },
        "id": "5VrksWehj3TJ",
        "outputId": "bf206ee0-0130-4521-f85c-495f98e38b29",
        "slideshow": {
          "slide_type": "fragment"
        }
      },
      "outputs": [],
      "source": [
        "mean_list: List[np.ndarray] = [\n",
        "  io.imread(path_file).mean((0,1))\n",
        "  for path_file in path_images_dir.iterdir()\n",
        "]\n",
        "\n",
        "pprint(mean_list[:3])"
      ]
    },
    {
      "cell_type": "markdown",
      "metadata": {
        "slideshow": {
          "slide_type": "subslide"
        }
      },
      "source": [
        "### A dictionnary to map the path and the mean of the file\n",
        "\n",
        "In the same spirit we can map the name of a file with the value of its mean RGB value. The main advantage is to have a clear mapping between the useful value and something to retrieve the file, here, the name of the file."
      ]
    },
    {
      "cell_type": "code",
      "execution_count": null,
      "metadata": {
        "colab": {
          "base_uri": "https://localhost:8080/"
        },
        "id": "4m8aiDGezeTZ",
        "outputId": "17970a1f-d6a0-4d7d-91da-f18d9cd9ae18",
        "slideshow": {
          "slide_type": "fragment"
        }
      },
      "outputs": [],
      "source": [
        "mean_by_filename: Dict[str, np.ndarray] = {\n",
        "  path_file.name: io.imread(path_file).mean((0,1)) \n",
        "  for path_file in path_images_dir.iterdir() \n",
        "}\n",
        "\n",
        "for key in tuple(mean_by_filename.keys())[:3]:\n",
        "  print(f\"{key}: {mean_by_filename[key]}\")"
      ]
    },
    {
      "cell_type": "markdown",
      "metadata": {
        "id": "mmYAm2nHjGjP",
        "slideshow": {
          "slide_type": "subslide"
        }
      },
      "source": [
        "Plus, you can even map the `Path` object of your file to the mean, `Path` objects are hashable. Actually, it would be even more convenient to have access of its path if we need to retrieve the file later."
      ]
    },
    {
      "cell_type": "code",
      "execution_count": null,
      "metadata": {
        "colab": {
          "base_uri": "https://localhost:8080/"
        },
        "id": "i5_WLihXjJ6l",
        "outputId": "07070081-2370-4e52-94d9-4dac61ec1a81",
        "slideshow": {
          "slide_type": "fragment"
        }
      },
      "outputs": [],
      "source": [
        "mean_by_path: Dict[Path, np.ndarray] = {\n",
        "  path_file: io.imread(path_file).mean((0,1))\n",
        "  for path_file in path_images_dir.iterdir()\n",
        "}\n",
        "\n",
        "for key in tuple(mean_by_path.keys())[:3]:\n",
        "  print(f\"{key}: {mean_by_path[key]}\")"
      ]
    }
  ],
  "metadata": {
    "colab": {
      "name": "image_processing.ipynb",
      "provenance": []
    },
    "kernelspec": {
      "display_name": "Python 3.8.10 ('env': venv)",
      "language": "python",
      "name": "python3"
    },
    "language_info": {
      "codemirror_mode": {
        "name": "ipython",
        "version": 3
      },
      "file_extension": ".py",
      "mimetype": "text/x-python",
      "name": "python",
      "nbconvert_exporter": "python",
      "pygments_lexer": "ipython3",
      "version": "3.8.10"
    },
    "orig_nbformat": 4,
    "vscode": {
      "interpreter": {
        "hash": "d06f5c508cb6d412c5fc39a624b56d5d87ea0c4834e1bf11b5c4d9b980382d19"
      }
    }
  },
  "nbformat": 4,
  "nbformat_minor": 0
}
