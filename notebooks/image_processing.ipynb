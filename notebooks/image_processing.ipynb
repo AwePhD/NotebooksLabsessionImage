{
  "cells": [
    {
      "cell_type": "code",
      "execution_count": 1,
      "metadata": {
        "colab": {
          "base_uri": "https://localhost:8080/"
        },
        "id": "zKBr5mgKRV1g",
        "outputId": "cdb40580-385c-426c-e31d-770f44798914"
      },
      "outputs": [
        {
          "name": "stdout",
          "output_type": "stream",
          "text": [
            "Collecting git+https://github.com/AwePhD/NotebooksLabsessionImage.git\n",
            "  Cloning https://github.com/AwePhD/NotebooksLabsessionImage.git to /tmp/pip-req-build-3vdf1de3\n",
            "  Running command git clone -q https://github.com/AwePhD/NotebooksLabsessionImage.git /tmp/pip-req-build-3vdf1de3\n",
            "  Installing build dependencies ... \u001b[?25l\u001b[?25hdone\n",
            "  Getting requirements to build wheel ... \u001b[?25l\u001b[?25hdone\n",
            "  Installing backend dependencies ... \u001b[?25l\u001b[?25hdone\n",
            "    Preparing wheel metadata ... \u001b[?25l\u001b[?25hdone\n",
            "Requirement already satisfied: pandas==1.1.5 in /usr/local/lib/python3.7/dist-packages (from NLI==1.0.0) (1.1.5)\n",
            "Requirement already satisfied: scikit-image==0.18.3 in /usr/local/lib/python3.7/dist-packages (from NLI==1.0.0) (0.18.3)\n",
            "Requirement already satisfied: numpy>=1.15.4 in /usr/local/lib/python3.7/dist-packages (from pandas==1.1.5->NLI==1.0.0) (1.19.5)\n",
            "Requirement already satisfied: pytz>=2017.2 in /usr/local/lib/python3.7/dist-packages (from pandas==1.1.5->NLI==1.0.0) (2018.9)\n",
            "Requirement already satisfied: python-dateutil>=2.7.3 in /usr/local/lib/python3.7/dist-packages (from pandas==1.1.5->NLI==1.0.0) (2.8.2)\n",
            "Requirement already satisfied: pillow!=7.1.0,!=7.1.1,>=4.3.0 in /usr/local/lib/python3.7/dist-packages (from scikit-image==0.18.3->NLI==1.0.0) (7.1.2)\n",
            "Requirement already satisfied: imageio>=2.3.0 in /usr/local/lib/python3.7/dist-packages (from scikit-image==0.18.3->NLI==1.0.0) (2.4.1)\n",
            "Requirement already satisfied: networkx>=2.0 in /usr/local/lib/python3.7/dist-packages (from scikit-image==0.18.3->NLI==1.0.0) (2.6.3)\n",
            "Requirement already satisfied: matplotlib!=3.0.0,>=2.0.0 in /usr/local/lib/python3.7/dist-packages (from scikit-image==0.18.3->NLI==1.0.0) (3.2.2)\n",
            "Requirement already satisfied: scipy>=1.0.1 in /usr/local/lib/python3.7/dist-packages (from scikit-image==0.18.3->NLI==1.0.0) (1.4.1)\n",
            "Requirement already satisfied: PyWavelets>=1.1.1 in /usr/local/lib/python3.7/dist-packages (from scikit-image==0.18.3->NLI==1.0.0) (1.2.0)\n",
            "Requirement already satisfied: tifffile>=2019.7.26 in /usr/local/lib/python3.7/dist-packages (from scikit-image==0.18.3->NLI==1.0.0) (2021.11.2)\n",
            "Requirement already satisfied: cycler>=0.10 in /usr/local/lib/python3.7/dist-packages (from matplotlib!=3.0.0,>=2.0.0->scikit-image==0.18.3->NLI==1.0.0) (0.11.0)\n",
            "Requirement already satisfied: pyparsing!=2.0.4,!=2.1.2,!=2.1.6,>=2.0.1 in /usr/local/lib/python3.7/dist-packages (from matplotlib!=3.0.0,>=2.0.0->scikit-image==0.18.3->NLI==1.0.0) (3.0.6)\n",
            "Requirement already satisfied: kiwisolver>=1.0.1 in /usr/local/lib/python3.7/dist-packages (from matplotlib!=3.0.0,>=2.0.0->scikit-image==0.18.3->NLI==1.0.0) (1.3.2)\n",
            "Requirement already satisfied: six>=1.5 in /usr/local/lib/python3.7/dist-packages (from python-dateutil>=2.7.3->pandas==1.1.5->NLI==1.0.0) (1.15.0)\n",
            "Building wheels for collected packages: NLI\n",
            "  Building wheel for NLI (PEP 517) ... \u001b[?25l\u001b[?25hdone\n",
            "  Created wheel for NLI: filename=NLI-1.0.0-py3-none-any.whl size=2406 sha256=1560bca79741ab76575f29d7909879ca0bdb2ee81d8ce93d940f944b7820964b\n",
            "  Stored in directory: /tmp/pip-ephem-wheel-cache-c4y459bw/wheels/17/4a/a4/4f920391e876c3c2632ecc7851748e1c11539349fe2eefd2c4\n",
            "Successfully built NLI\n",
            "Installing collected packages: NLI\n",
            "Successfully installed NLI-1.0.0\n"
          ]
        }
      ],
      "source": [
        "# Install the environnement\n",
        "%pip install git+https://github.com/AwePhD/NotebooksLabsessionImage.git"
      ]
    },
    {
      "cell_type": "code",
      "execution_count": 2,
      "metadata": {
        "colab": {
          "base_uri": "https://localhost:8080/"
        },
        "id": "tSv2bpyERV1k",
        "outputId": "67389fa1-d5d9-4547-d296-cd8db57234f5"
      },
      "outputs": [
        {
          "name": "stdout",
          "output_type": "stream",
          "text": [
            "  % Total    % Received % Xferd  Average Speed   Time    Time     Time  Current\n",
            "                                 Dload  Upload   Total   Spent    Left  Speed\n",
            "100   156  100   156    0     0    445      0 --:--:-- --:--:-- --:--:--   444\n",
            "100 2484k  100 2484k    0     0  4155k      0 --:--:-- --:--:-- --:--:-- 4155k\n"
          ]
        }
      ],
      "source": [
        "# Import dataset \n",
        "# Can be found at https://www.kaggle.com/vishalsubbiah/pokemon-images-and-types\n",
        "!rm -rf ./*\n",
        "!curl -LO https://github.com/AwePhD/NotebooksLabsessionImage/raw/main/pokemon_dataset.zip\n",
        "!unzip -qq pokemon_dataset.zip\n",
        "!rm pokemon_dataset.zip"
      ]
    },
    {
      "cell_type": "code",
      "execution_count": 1,
      "metadata": {
        "id": "jjJJ1JydRV1l"
      },
      "outputs": [
        {
          "ename": "ModuleNotFoundError",
          "evalue": "No module named 'matplotlib'",
          "output_type": "error",
          "traceback": [
            "\u001b[0;31m---------------------------------------------------------------------------\u001b[0m",
            "\u001b[0;31mModuleNotFoundError\u001b[0m                       Traceback (most recent call last)",
            "\u001b[1;32m/home/muffie/code/NotebooksLabsessionImage/notebooks/image_processing.ipynb Cell 3\u001b[0m in \u001b[0;36m<cell line: 8>\u001b[0;34m()\u001b[0m\n\u001b[1;32m      <a href='vscode-notebook-cell:/home/muffie/code/NotebooksLabsessionImage/notebooks/image_processing.ipynb#W2sZmlsZQ%3D%3D?line=5'>6</a>\u001b[0m \u001b[39m# Third party imports\u001b[39;00m\n\u001b[1;32m      <a href='vscode-notebook-cell:/home/muffie/code/NotebooksLabsessionImage/notebooks/image_processing.ipynb#W2sZmlsZQ%3D%3D?line=6'>7</a>\u001b[0m \u001b[39mimport\u001b[39;00m \u001b[39mnumpy\u001b[39;00m \u001b[39mas\u001b[39;00m \u001b[39mnp\u001b[39;00m\n\u001b[0;32m----> <a href='vscode-notebook-cell:/home/muffie/code/NotebooksLabsessionImage/notebooks/image_processing.ipynb#W2sZmlsZQ%3D%3D?line=7'>8</a>\u001b[0m \u001b[39mimport\u001b[39;00m \u001b[39mmatplotlib\u001b[39;00m\u001b[39m.\u001b[39;00m\u001b[39mpyplot\u001b[39;00m \u001b[39mas\u001b[39;00m \u001b[39mplt\u001b[39;00m\n\u001b[1;32m      <a href='vscode-notebook-cell:/home/muffie/code/NotebooksLabsessionImage/notebooks/image_processing.ipynb#W2sZmlsZQ%3D%3D?line=8'>9</a>\u001b[0m \u001b[39mfrom\u001b[39;00m \u001b[39mskimage\u001b[39;00m \u001b[39mimport\u001b[39;00m io\n\u001b[1;32m     <a href='vscode-notebook-cell:/home/muffie/code/NotebooksLabsessionImage/notebooks/image_processing.ipynb#W2sZmlsZQ%3D%3D?line=9'>10</a>\u001b[0m \u001b[39mfrom\u001b[39;00m \u001b[39mskimage\u001b[39;00m \u001b[39mimport\u001b[39;00m data\n",
            "\u001b[0;31mModuleNotFoundError\u001b[0m: No module named 'matplotlib'"
          ]
        }
      ],
      "source": [
        "# Standard imports\n",
        "from pathlib import Path\n",
        "from pprint import pprint\n",
        "from typing import List, Dict\n",
        "\n",
        "# Third party imports\n",
        "import numpy as np\n",
        "import matplotlib.pyplot as plt\n",
        "from skimage import io\n",
        "from skimage import data\n",
        "from skimage import img_as_float, img_as_ubyte\n",
        "\n",
        "# Local imports\n",
        "from NLI.utils import (\n",
        "    iprint,\n",
        "    print_img_info\n",
        ")"
      ]
    },
    {
      "cell_type": "markdown",
      "metadata": {
        "id": "-KgzEC_uRV1m"
      },
      "source": [
        "# What is an image ?\n",
        "\n",
        "An image is a 2D data with one or more channels for each pixels: grayscale image have 1 channels, RGB images have 3 channels, hyperspectrale images might have dozen of channels.\n",
        "\n",
        "The best way to process images is to use an existing image library. There are multiple image libraries based on the process' needs. For this notebook, the Scikit-image *aka* skimage is used. Namely, it is a bad idea to use matplotlib to read and display an image.\n",
        "\n",
        "## Import an image"
      ]
    },
    {
      "cell_type": "code",
      "execution_count": 4,
      "metadata": {
        "colab": {
          "base_uri": "https://localhost:8080/",
          "height": 297
        },
        "id": "GGSek3IvRV1o",
        "outputId": "7061e449-8bd2-410c-ed94-e4835a203dfa"
      },
      "outputs": [
        {
          "data": {
            "image/png": "[encoded data removed]",
            "text/plain": [
              "<Figure size 432x288 with 1 Axes>"
            ]
          },
          "metadata": {
            "needs_background": "light"
          },
          "output_type": "display_data"
        }
      ],
      "source": [
        "# Get the path to the Pikachu image and load image in img variable\n",
        "path_pikachu: Path = Path.cwd() / \"images\" / \"pikachu.png\"\n",
        "img = io.imread(path_pikachu)\n",
        "\n",
        "# Display the image\n",
        "# In future this code is inside the function iprint in the repo package NLI\n",
        "# https://github.com/AwePhD/NotebooksLabsessionImage/blob/main/NLI/utils.py#L6\n",
        "# https://github.com/AwePhD/NotebooksLabsessionImage/blob/main/NLI/utils.py#L20\n",
        "# Display\n",
        "plt.figure()\n",
        "plt.axis(\"off\")\n",
        "plt.title(\"The best rat ever\")\n",
        "io.imshow(img)\n",
        "plt.show()"
      ]
    },
    {
      "cell_type": "markdown",
      "metadata": {},
      "source": [
        "##### Explore an image\n",
        "\n",
        "Numpy use the object of `ndarray` to represents tabular data. A brief introduction of the possible is available [here](https://jakevdp.github.io/PythonDataScienceHandbook/02.02-the-basics-of-numpy-arrays.html). Also, a [quick explanation](https://jakevdp.github.io/PythonDataScienceHandbook/02.01-understanding-data-types.html) of data types can be useful to understand what Python is storing inside the `ndarray` objects.\n",
        "\n",
        "Eventually, `ndarray` is an object. In short, an object is a data structure - a variable that contains more or less data - with a specific behaviour. \n",
        "\n",
        "For instance, an `ndarray` for an image would contain all the data about the image - the value of each pixel. Plus we will be able to do some operation on this image easily without writing much code : stat informations, image informations, basic arithmetics ..."
      ]
    },
    {
      "cell_type": "code",
      "execution_count": 5,
      "metadata": {
        "colab": {
          "base_uri": "https://localhost:8080/"
        },
        "id": "QUedVfNdRV1o",
        "outputId": "b03132e1-54f5-4dbf-bd82-447e6c99eabc"
      },
      "outputs": [
        {
          "name": "stdout",
          "output_type": "stream",
          "text": [
            "type(img): <class 'numpy.ndarray'>\n",
            "img.shape: (120, 120, 4)\n",
            "img.dtype: uint8\n",
            "Range: 0-255\n",
            "\n",
            "img.shape: (120, 120, 4)\n",
            "img.dtype: float64\n",
            "Range of value: 0.0-1.0\n",
            "\n",
            "img.shape: (120, 120, 4)\n",
            "img.dtype: uint8\n",
            "Range of value: 0-255\n",
            "\n"
          ]
        }
      ],
      "source": [
        "# Base image\n",
        "print(\n",
        "    f\"type(img): {type(img)}\\n\"\n",
        "    f\"img.shape: {img.shape}\\n\"\n",
        "    f\"img.dtype: {img.dtype}\\n\"\n",
        "    f\"Range: {img.min()}-{img.max()}\\n\"\n",
        ")\n",
        "# To float\n",
        "img_float = img_as_float(img)\n",
        "print_img_info(img_float)\n",
        "\n",
        "# To uint8 (unsigned byte)\n",
        "img_ubyte = img_as_ubyte(img)\n",
        "print_img_info(img_ubyte)\n",
        "\n",
        "# Note that the base image was already on 8 bits (1 Byte) unsigned."
      ]
    },
    {
      "cell_type": "markdown",
      "metadata": {
        "id": "-_zBB9wqWr0a"
      },
      "source": [
        "## Use of numpy witn ndarray for Image processing\n",
        "\n",
        "Numpy array - `ndarray` - is the most used data structure in Numpy package. This array has a ton of features which often are used in data processing."
      ]
    },
    {
      "cell_type": "markdown",
      "metadata": {},
      "source": [
        "##### \"Smart artihmetic\" operation on ndarray\n",
        "\n",
        "The _smart_ arithmetic is known as broadcasting. There [is a section](https://jakevdp.github.io/PythonDataScienceHandbook/02.05-computation-on-arrays-broadcasting.html) of the Python Data Handbook which is about this feature. Mainly, we can use `ndarray` easily and handily. "
      ]
    },
    {
      "cell_type": "code",
      "execution_count": 6,
      "metadata": {
        "colab": {
          "base_uri": "https://localhost:8080/"
        },
        "id": "JvX438Jmfw1N",
        "outputId": "2b202beb-14fa-4de9-f433-e5741a1a2642"
      },
      "outputs": [
        {
          "name": "stdout",
          "output_type": "stream",
          "text": [
            "data[25,30,120]: 0.41\n",
            "data_plus_one[25,30,120]: 1.41\n",
            "\n",
            "np.arange(300)[120]: 120\n",
            "--------------------------------------------------\n",
            "data[25,30,120]: 0.41\n",
            "data_plus_vector[25,30,120]: 120.41\n",
            "--------------------------------------------------\n",
            "data[24,0,120]: -0.60\n",
            "data_plus_vector[24,0,120]: 119.40\n",
            "--------------------------------------------------\n",
            "data[25,30,121]: 0.35\n",
            "data_plus_vector[25,30,121]: 121.35\n",
            "\n"
          ]
        }
      ],
      "source": [
        "# Numpy is smart\n",
        "# Increment all value by a scalar\n",
        "data: np.ndarray = np.random.randn(50,50,300)\n",
        "data_plus_one: np.ndarray = data + 1\n",
        "print(\n",
        "    f\"data[25,30,120]: {data[25,30,120]:.2f}\\n\"\n",
        "    f\"data_plus_one[25,30,120]: {data_plus_one[25,30,120]:.2f}\\n\"\n",
        ")\n",
        "\n",
        "# Increment all values by a vector\n",
        "# All element with the same last indice get the same increment\n",
        "data_plus_vector: np.ndarray = data + np.arange(300)\n",
        "print(\n",
        "    f\"np.arange(300)[120]: {np.arange(300)[120]}\\n\"\n",
        "    f\"{'':-^50}\\n\"\n",
        "    f\"data[25,30,120]: {data[25,30,120]:.2f}\\n\"\n",
        "    f\"data_plus_vector[25,30,120]: {data_plus_vector[25,30,120]:.2f}\\n\"\n",
        "    f\"{'':-^50}\\n\"\n",
        "    f\"data[24,0,120]: {data[24,0,120]:.2f}\\n\"\n",
        "    f\"data_plus_vector[24,0,120]: {data_plus_vector[24,0,120]:.2f}\\n\"\n",
        "    f\"{'':-^50}\\n\"\n",
        "    f\"data[25,30,121]: {data[25,30,121]:.2f}\\n\"\n",
        "    f\"data_plus_vector[25,30,121]: {data_plus_vector[25,30,121]:.2f}\\n\"\n",
        ")\n",
        "# See that coefficient with last slice 120 got incremented by 120 and a\n",
        "# different coefficient with last slice 121 got incremented by 121.\n",
        "# Numpy smartly increments data"
      ]
    },
    {
      "cell_type": "markdown",
      "metadata": {},
      "source": [
        "##### Mean processing\n",
        "\n",
        "We can process the mean easily. Here a brief section to illustrate how to do it. For more details, check the [section](https://jakevdp.github.io/PythonDataScienceHandbook/02.04-computation-on-arrays-aggregates.html) of Python Datascience Handbook which shows other functions."
      ]
    },
    {
      "cell_type": "code",
      "execution_count": 7,
      "metadata": {
        "colab": {
          "base_uri": "https://localhost:8080/"
        },
        "id": "vFoIztJRkj26",
        "outputId": "955500a0-6d6a-4b8a-9369-122689c4b7f2"
      },
      "outputs": [
        {
          "name": "stdout",
          "output_type": "stream",
          "text": [
            "ar.mean(): 0.008\n",
            "\n",
            "ar.mean(0).shape: (100,)\n",
            "\n",
            "ar.mean(0).shape: (50,)\n",
            "\n"
          ]
        }
      ],
      "source": [
        "# Process mean\n",
        "\n",
        "# Let's have a 2D array with 50 elements of 100 length\n",
        "# A 2D matrix represents 50 vectors having 100 coordinates.\n",
        "ar: np.ndarray = np.random.randn(50,100)\n",
        "\n",
        "# We would like to have the mean value of the array\n",
        "# Namely the mean value given any vector and any coordinate\n",
        "print(f\"ar.mean(): {ar.mean():.3f}\\n\")\n",
        "\n",
        "# We would like to have the mean value for each coordinate\n",
        "# That's the mean along the first axis, the axis of vector\n",
        "# The mean of first coordinate is the mean of all first coordinates for all\n",
        "# vectors.\n",
        "# ar[:,0] is the first coordinate for all vector\n",
        "mean_coord: np.ndarray = ar.mean(0)\n",
        "print(f\"ar.mean(0).shape: {mean_coord.shape}\\n\")\n",
        "\n",
        "# We would like to have the mean value for each vector\n",
        "# That's the mean along the second exis, the axis of coordinates\n",
        "# The mean of first vector is the mean of its coordinates \n",
        "# ar[0,:] (or ar[0]) is the first vector\n",
        "mean_vector: np.ndarray = ar.mean(1)\n",
        "print(f\"ar.mean(1).shape: {mean_vector.shape}\\n\")"
      ]
    },
    {
      "cell_type": "markdown",
      "metadata": {
        "id": "CZkEgeiziuPQ"
      },
      "source": [
        "### Compute the RGB mean of an image on list comprehension\n",
        "How to get data from files and path is explained in the Path collab.\n",
        "\n",
        "[![Open In Collab](https://colab.research.google.com/assets/colab-badge.svg)](https://colab.research.google.com/github/AwePhD/NotebooksLabsessionImage/blob/main/notebooks/manage_path.ipynb)\n",
        "\n",
        "#### List comprehension\n",
        "\n",
        "A list comprehension is faster than a regular loop ([SO reply](https://stackoverflow.com/a/22108640)) and more natural than a loop structure - once we are used to it! List comprehension are **only** meant to build a list from another object.\n",
        "\n",
        "Here we are going to illustrate a list comprehension. We have a list of names $\\{\\text{Alice, Adam, Bob, Bertrand, Céline}\\}$. The point is to retrieve each noun beginning by an $\\text{A}$."
      ]
    },
    {
      "cell_type": "code",
      "execution_count": 5,
      "metadata": {
        "colab": {
          "base_uri": "https://localhost:8080/"
        },
        "id": "7qEOWa81jvZT",
        "outputId": "cee0dfaa-3e0d-412c-f4e5-12c9e7e8ad3f"
      },
      "outputs": [
        {
          "name": "stdout",
          "output_type": "stream",
          "text": [
            "name_list: ['Alice', 'Adam', 'Bob', 'Bertrand', 'Céline']\n",
            "\n",
            "------------- No list comprehension --------------\n",
            "\n",
            "A_name_list: ['Alice', 'Adam']\n",
            "\n"
          ]
        }
      ],
      "source": [
        "# Let's have a list of name\n",
        "name_list: List[str] = [\"Alice\", \"adam\", \"Bob\", \"Bertrand\", \"céline\"]\n",
        "print(f\"name_list: {name_list}\\n\")\n",
        "\n",
        "# We want to build the list of names with 'A' as first letter\n",
        "# The classical approach is\n",
        "A_name_list: List[str] = []\n",
        "for name in name_list:\n",
        "  if name[0] == 'A':\n",
        "    A_name_list.append(name)\n",
        "print(f\"{' No list comprehension ':-^50}\\n\")\n",
        "print(f\"A_name_list: {A_name_list}\\n\")"
      ]
    },
    {
      "cell_type": "markdown",
      "metadata": {},
      "source": [
        "Now, we are going to write the list comprehension in a one liner*. The **main** idea of a list comprehension is to generate _right away_ the final list: the list of the names beginning with an $\\text{A}$.\n",
        "\n",
        "Here, we basically take each name in the original tab with `for name in name_list` then we added a guard `if name[0] == 'A'` in order to filter which name we are keeping. \n",
        "\n",
        "*: we expanded the expression on several lines for readibility. It could have been done in one line if we remove the new line characters."
      ]
    },
    {
      "cell_type": "code",
      "execution_count": 4,
      "metadata": {},
      "outputs": [
        {
          "name": "stdout",
          "output_type": "stream",
          "text": [
            "--------------- List comprehension ---------------\n",
            "\n",
            "A_name_list: ['Alice', 'Adam']\n",
            "\n"
          ]
        }
      ],
      "source": [
        "# The list comprenhension approach is\n",
        "A_name_list_c: List[str] = [\n",
        "  name\n",
        "  for name in name_list\n",
        "  if name[0] == 'A'\n",
        "]\n",
        "print(f\"{' List comprehension ':-^50}\\n\")\n",
        "print(f\"A_name_list: {A_name_list_c}\\n\")"
      ]
    },
    {
      "cell_type": "markdown",
      "metadata": {},
      "source": [
        "We do not have to use the `if` guard for the list comprehension. Let's consider we want to generate the same list of names with names in title, namely these names should have the first letter capitalized."
      ]
    },
    {
      "cell_type": "code",
      "execution_count": 6,
      "metadata": {},
      "outputs": [
        {
          "name": "stdout",
          "output_type": "stream",
          "text": [
            "--------------- List comprehension ---------------\n",
            "\n",
            "A_name_list: ['Alice', 'Adam', 'Bob', 'Bertrand', 'Céline']\n",
            "\n"
          ]
        }
      ],
      "source": [
        "# The list comprenhension approach is\n",
        "A_name_list_c: List[str] = [\n",
        "  name.title()\n",
        "  for name in name_list\n",
        "]\n",
        "print(f\"{' List comprehension ':-^50}\\n\")\n",
        "print(f\"A_name_list: {A_name_list_c}\\n\")"
      ]
    },
    {
      "cell_type": "markdown",
      "metadata": {
        "id": "lpZ1fEk3i8t9"
      },
      "source": [
        "##### Computing RGB mean of pictures on list comprehension\n",
        "\n",
        "Here, we want to use the new shiny list comprehension to do some image processing. For this, we have `path_images_dir` which is the directory of containing all the images. In a single line of code we can iter into this directory and compute the mean with a friendly syntax."
      ]
    },
    {
      "cell_type": "code",
      "execution_count": 2,
      "metadata": {
        "colab": {
          "base_uri": "https://localhost:8080/"
        },
        "id": "5VrksWehj3TJ",
        "outputId": "bf206ee0-0130-4521-f85c-495f98e38b29"
      },
      "outputs": [
        {
          "ename": "NameError",
          "evalue": "name 'img_as_float' is not defined",
          "output_type": "error",
          "traceback": [
            "\u001b[0;31m---------------------------------------------------------------------------\u001b[0m",
            "\u001b[0;31mNameError\u001b[0m                                 Traceback (most recent call last)",
            "\u001b[1;32m/home/muffie/code/NotebooksLabsessionImage/notebooks/image_processing.ipynb Cell 20\u001b[0m in \u001b[0;36m<cell line: 2>\u001b[0;34m()\u001b[0m\n\u001b[1;32m      <a href='vscode-notebook-cell:/home/muffie/code/NotebooksLabsessionImage/notebooks/image_processing.ipynb#X25sZmlsZQ%3D%3D?line=0'>1</a>\u001b[0m path_images_dir: Path \u001b[39m=\u001b[39m Path\u001b[39m.\u001b[39mcwd() \u001b[39m/\u001b[39m \u001b[39m\"\u001b[39m\u001b[39mimages\u001b[39m\u001b[39m\"\u001b[39m\n\u001b[0;32m----> <a href='vscode-notebook-cell:/home/muffie/code/NotebooksLabsessionImage/notebooks/image_processing.ipynb#X25sZmlsZQ%3D%3D?line=1'>2</a>\u001b[0m mean_list: List[np\u001b[39m.\u001b[39mndarray] \u001b[39m=\u001b[39m [\n\u001b[1;32m      <a href='vscode-notebook-cell:/home/muffie/code/NotebooksLabsessionImage/notebooks/image_processing.ipynb#X25sZmlsZQ%3D%3D?line=2'>3</a>\u001b[0m   img_as_float(\n\u001b[1;32m      <a href='vscode-notebook-cell:/home/muffie/code/NotebooksLabsessionImage/notebooks/image_processing.ipynb#X25sZmlsZQ%3D%3D?line=3'>4</a>\u001b[0m       io\u001b[39m.\u001b[39mimread(path_file)\n\u001b[1;32m      <a href='vscode-notebook-cell:/home/muffie/code/NotebooksLabsessionImage/notebooks/image_processing.ipynb#X25sZmlsZQ%3D%3D?line=4'>5</a>\u001b[0m   )\u001b[39m.\u001b[39mmean((\u001b[39m0\u001b[39m,\u001b[39m1\u001b[39m))\n\u001b[1;32m      <a href='vscode-notebook-cell:/home/muffie/code/NotebooksLabsessionImage/notebooks/image_processing.ipynb#X25sZmlsZQ%3D%3D?line=5'>6</a>\u001b[0m   \u001b[39mfor\u001b[39;00m path_file \u001b[39min\u001b[39;00m path_images_dir\u001b[39m.\u001b[39miterdir()\n\u001b[1;32m      <a href='vscode-notebook-cell:/home/muffie/code/NotebooksLabsessionImage/notebooks/image_processing.ipynb#X25sZmlsZQ%3D%3D?line=6'>7</a>\u001b[0m ]\n\u001b[1;32m      <a href='vscode-notebook-cell:/home/muffie/code/NotebooksLabsessionImage/notebooks/image_processing.ipynb#X25sZmlsZQ%3D%3D?line=8'>9</a>\u001b[0m \u001b[39m# Print few elements\u001b[39;00m\n\u001b[1;32m     <a href='vscode-notebook-cell:/home/muffie/code/NotebooksLabsessionImage/notebooks/image_processing.ipynb#X25sZmlsZQ%3D%3D?line=9'>10</a>\u001b[0m \u001b[39mprint\u001b[39m(\n\u001b[1;32m     <a href='vscode-notebook-cell:/home/muffie/code/NotebooksLabsessionImage/notebooks/image_processing.ipynb#X25sZmlsZQ%3D%3D?line=10'>11</a>\u001b[0m     \u001b[39mf\u001b[39m\u001b[39m\"\u001b[39m\u001b[39m{\u001b[39;00m\u001b[39m'\u001b[39m\u001b[39m3 first elements of the list of means\u001b[39m\u001b[39m'\u001b[39m\u001b[39m:\u001b[39;00m\u001b[39m^40\u001b[39m\u001b[39m}\u001b[39;00m\u001b[39m\"\u001b[39m\n\u001b[1;32m     <a href='vscode-notebook-cell:/home/muffie/code/NotebooksLabsessionImage/notebooks/image_processing.ipynb#X25sZmlsZQ%3D%3D?line=11'>12</a>\u001b[0m )\n",
            "\u001b[1;32m/home/muffie/code/NotebooksLabsessionImage/notebooks/image_processing.ipynb Cell 20\u001b[0m in \u001b[0;36m<listcomp>\u001b[0;34m(.0)\u001b[0m\n\u001b[1;32m      <a href='vscode-notebook-cell:/home/muffie/code/NotebooksLabsessionImage/notebooks/image_processing.ipynb#X25sZmlsZQ%3D%3D?line=0'>1</a>\u001b[0m path_images_dir: Path \u001b[39m=\u001b[39m Path\u001b[39m.\u001b[39mcwd() \u001b[39m/\u001b[39m \u001b[39m\"\u001b[39m\u001b[39mimages\u001b[39m\u001b[39m\"\u001b[39m\n\u001b[1;32m      <a href='vscode-notebook-cell:/home/muffie/code/NotebooksLabsessionImage/notebooks/image_processing.ipynb#X25sZmlsZQ%3D%3D?line=1'>2</a>\u001b[0m mean_list: List[np\u001b[39m.\u001b[39mndarray] \u001b[39m=\u001b[39m [\n\u001b[0;32m----> <a href='vscode-notebook-cell:/home/muffie/code/NotebooksLabsessionImage/notebooks/image_processing.ipynb#X25sZmlsZQ%3D%3D?line=2'>3</a>\u001b[0m   img_as_float(\n\u001b[1;32m      <a href='vscode-notebook-cell:/home/muffie/code/NotebooksLabsessionImage/notebooks/image_processing.ipynb#X25sZmlsZQ%3D%3D?line=3'>4</a>\u001b[0m       io\u001b[39m.\u001b[39mimread(path_file)\n\u001b[1;32m      <a href='vscode-notebook-cell:/home/muffie/code/NotebooksLabsessionImage/notebooks/image_processing.ipynb#X25sZmlsZQ%3D%3D?line=4'>5</a>\u001b[0m   )\u001b[39m.\u001b[39mmean((\u001b[39m0\u001b[39m,\u001b[39m1\u001b[39m))\n\u001b[1;32m      <a href='vscode-notebook-cell:/home/muffie/code/NotebooksLabsessionImage/notebooks/image_processing.ipynb#X25sZmlsZQ%3D%3D?line=5'>6</a>\u001b[0m   \u001b[39mfor\u001b[39;00m path_file \u001b[39min\u001b[39;00m path_images_dir\u001b[39m.\u001b[39miterdir()\n\u001b[1;32m      <a href='vscode-notebook-cell:/home/muffie/code/NotebooksLabsessionImage/notebooks/image_processing.ipynb#X25sZmlsZQ%3D%3D?line=6'>7</a>\u001b[0m ]\n\u001b[1;32m      <a href='vscode-notebook-cell:/home/muffie/code/NotebooksLabsessionImage/notebooks/image_processing.ipynb#X25sZmlsZQ%3D%3D?line=8'>9</a>\u001b[0m \u001b[39m# Print few elements\u001b[39;00m\n\u001b[1;32m     <a href='vscode-notebook-cell:/home/muffie/code/NotebooksLabsessionImage/notebooks/image_processing.ipynb#X25sZmlsZQ%3D%3D?line=9'>10</a>\u001b[0m \u001b[39mprint\u001b[39m(\n\u001b[1;32m     <a href='vscode-notebook-cell:/home/muffie/code/NotebooksLabsessionImage/notebooks/image_processing.ipynb#X25sZmlsZQ%3D%3D?line=10'>11</a>\u001b[0m     \u001b[39mf\u001b[39m\u001b[39m\"\u001b[39m\u001b[39m{\u001b[39;00m\u001b[39m'\u001b[39m\u001b[39m3 first elements of the list of means\u001b[39m\u001b[39m'\u001b[39m\u001b[39m:\u001b[39;00m\u001b[39m^40\u001b[39m\u001b[39m}\u001b[39;00m\u001b[39m\"\u001b[39m\n\u001b[1;32m     <a href='vscode-notebook-cell:/home/muffie/code/NotebooksLabsessionImage/notebooks/image_processing.ipynb#X25sZmlsZQ%3D%3D?line=11'>12</a>\u001b[0m )\n",
            "\u001b[0;31mNameError\u001b[0m: name 'img_as_float' is not defined"
          ]
        }
      ],
      "source": [
        "path_images_dir: Path = Path.cwd() / \"images\"\n",
        "mean_list: List[np.ndarray] = [\n",
        "  img_as_float(\n",
        "      io.imread(path_file)\n",
        "  ).mean((0,1))\n",
        "  for path_file in path_images_dir.iterdir()\n",
        "]\n",
        "\n",
        "# Print few elements\n",
        "print(\n",
        "    f\"{'3 first elements of the list of means':^40}\"\n",
        ")\n",
        "pprint(mean_list[:3])"
      ]
    },
    {
      "cell_type": "markdown",
      "metadata": {},
      "source": [
        "Note, the mean vectors are lame and not very representative in this case. A lot of pixel are taken in consideration while their pixel have are white or / and transparent The solution would be to compute the mean from a masked image version. "
      ]
    },
    {
      "cell_type": "markdown",
      "metadata": {
        "id": "2kZhNGY1jDGZ"
      },
      "source": [
        "#### Dictionnary comprehension\n",
        "\n",
        "Another common data structure in Python is the dictionnary. This is a mapping between a _simple_ element - hashable - and another data structure. For example, dictionnary have keys (the simple element) with the name of the picture and has as value the mean vector of the picture.\n",
        "\n",
        "__Tips__: List can be seen as special dictionnary where keys are indexes. With dictionnary, we do not need to have indexes, the keys are the index."
      ]
    },
    {
      "cell_type": "code",
      "execution_count": 12,
      "metadata": {
        "colab": {
          "base_uri": "https://localhost:8080/"
        },
        "id": "4m8aiDGezeTZ",
        "outputId": "17970a1f-d6a0-4d7d-91da-f18d9cd9ae18"
      },
      "outputs": [
        {
          "name": "stdout",
          "output_type": "stream",
          "text": [
            "{'Adam': 8, 'Alice': 20, 'Bertrand': 20, 'Bob': 6, 'Céline': 15, 'Sarah': 19}\n",
            "grad_dict['Céline']: 15\n",
            "\n",
            "---------------------------- No dict comprehension -----------------------------\n",
            "\n",
            "better_than_average: {'Alice': 20, 'Bertrand': 20, 'Céline': 15, 'Sarah': 19}\n",
            "\n",
            "------------------------------ Dict comprehension ------------------------------\n",
            "\n",
            "better_than_average_c: {'Alice': 20, 'Bertrand': 20, 'Céline': 15, 'Sarah': 19}\n",
            "\n"
          ]
        }
      ],
      "source": [
        "mean_d: Dict[str, np.ndarray] = {\n",
        "  path_file.name: img_as_float(\n",
        "      io.imread(path_file)\n",
        "  ).mean((0,1))\n",
        "  for path_file in path_images_dir.iterdir()\n",
        "}\n",
        "\n",
        "# Print few elements\n",
        "print(\n",
        "    f\"{'3 first elements of the list of means':^40}\"\n",
        ")\n",
        "pprint(mean_list[:3])\n"
      ]
    },
    {
      "cell_type": "markdown",
      "metadata": {
        "id": "mmYAm2nHjGjP"
      },
      "source": [
        "Plus, you can even map the `Path` object of your file to the mean, `Path` objects are hashable."
      ]
    },
    {
      "cell_type": "code",
      "execution_count": 11,
      "metadata": {
        "colab": {
          "base_uri": "https://localhost:8080/"
        },
        "id": "i5_WLihXjJ6l",
        "outputId": "07070081-2370-4e52-94d9-4dac61ec1a81"
      },
      "outputs": [
        {
          "name": "stdout",
          "output_type": "stream",
          "text": [
            "||         3 first elements of the list of means         ||\n",
            "[(PosixPath('/content/images/octillery.png'),\n",
            "  array([0.11370833, 0.05174619, 0.0409055 , 0.12972685])),\n",
            " (PosixPath('/content/images/nincada.png'),\n",
            "  array([0.04815142, 0.0482658 , 0.04826498, 0.06252315])),\n",
            " (PosixPath('/content/images/terrakion.png'),\n",
            "  array([0.20425218, 0.18477397, 0.16943927, 0.32776389]))]\n"
          ]
        }
      ],
      "source": [
        "# Dictionnary is a special variable that as a \"key\" to index the \"values\"\n",
        "# An array, a tuple, a list have an integer to index each value for example.\n",
        "path_images_dir: Path = Path.cwd() / \"images\"\n",
        "mean_dict: Dict[Path, np.ndarray] = {\n",
        "  path_file: img_as_float(\n",
        "      io.imread(path_file)\n",
        "  ).mean((0,1))\n",
        "  for path_file in path_images_dir.iterdir()\n",
        "}\n",
        "\n",
        "# Print few elements\n",
        "print(\n",
        "    f\"||{'3 first elements of the list of means':^55}||\"\n",
        ")\n",
        "pprint(list(mean_dict.items())[:3])\n",
        "\n",
        "# Mapping the path of a picture and its mean might be convenient for future\n",
        "# uses ..."
      ]
    }
  ],
  "metadata": {
    "colab": {
      "name": "image_processing.ipynb",
      "provenance": []
    },
    "kernelspec": {
      "display_name": "Python 3.8.10 64-bit",
      "language": "python",
      "name": "python3"
    },
    "language_info": {
      "codemirror_mode": {
        "name": "ipython",
        "version": 3
      },
      "file_extension": ".py",
      "mimetype": "text/x-python",
      "name": "python",
      "nbconvert_exporter": "python",
      "pygments_lexer": "ipython3",
      "version": "3.8.10"
    },
    "orig_nbformat": 4,
    "vscode": {
      "interpreter": {
        "hash": "31f2aee4e71d21fbe5cf8b01ff0e069b9275f58929596ceb00d14d90e3e16cd6"
      }
    }
  },
  "nbformat": 4,
  "nbformat_minor": 0
}
