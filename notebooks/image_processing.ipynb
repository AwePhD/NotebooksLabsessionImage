{
  "cells": [
    {
      "cell_type": "code",
      "execution_count": 1,
      "metadata": {
        "colab": {
          "base_uri": "https://localhost:8080/"
        },
        "id": "zKBr5mgKRV1g",
        "outputId": "cdb40580-385c-426c-e31d-770f44798914",
        "slideshow": {
          "slide_type": "skip"
        }
      },
      "outputs": [
        {
          "name": "stdout",
          "output_type": "stream",
          "text": [
            "Collecting git+https://github.com/AwePhD/NotebooksLabsessionImage.git\n",
            "  Cloning https://github.com/AwePhD/NotebooksLabsessionImage.git to /tmp/pip-req-build-3vdf1de3\n",
            "  Running command git clone -q https://github.com/AwePhD/NotebooksLabsessionImage.git /tmp/pip-req-build-3vdf1de3\n",
            "  Installing build dependencies ... \u001b[?25l\u001b[?25hdone\n",
            "  Getting requirements to build wheel ... \u001b[?25l\u001b[?25hdone\n",
            "  Installing backend dependencies ... \u001b[?25l\u001b[?25hdone\n",
            "    Preparing wheel metadata ... \u001b[?25l\u001b[?25hdone\n",
            "Requirement already satisfied: pandas==1.1.5 in /usr/local/lib/python3.7/dist-packages (from NLI==1.0.0) (1.1.5)\n",
            "Requirement already satisfied: scikit-image==0.18.3 in /usr/local/lib/python3.7/dist-packages (from NLI==1.0.0) (0.18.3)\n",
            "Requirement already satisfied: numpy>=1.15.4 in /usr/local/lib/python3.7/dist-packages (from pandas==1.1.5->NLI==1.0.0) (1.19.5)\n",
            "Requirement already satisfied: pytz>=2017.2 in /usr/local/lib/python3.7/dist-packages (from pandas==1.1.5->NLI==1.0.0) (2018.9)\n",
            "Requirement already satisfied: python-dateutil>=2.7.3 in /usr/local/lib/python3.7/dist-packages (from pandas==1.1.5->NLI==1.0.0) (2.8.2)\n",
            "Requirement already satisfied: pillow!=7.1.0,!=7.1.1,>=4.3.0 in /usr/local/lib/python3.7/dist-packages (from scikit-image==0.18.3->NLI==1.0.0) (7.1.2)\n",
            "Requirement already satisfied: imageio>=2.3.0 in /usr/local/lib/python3.7/dist-packages (from scikit-image==0.18.3->NLI==1.0.0) (2.4.1)\n",
            "Requirement already satisfied: networkx>=2.0 in /usr/local/lib/python3.7/dist-packages (from scikit-image==0.18.3->NLI==1.0.0) (2.6.3)\n",
            "Requirement already satisfied: matplotlib!=3.0.0,>=2.0.0 in /usr/local/lib/python3.7/dist-packages (from scikit-image==0.18.3->NLI==1.0.0) (3.2.2)\n",
            "Requirement already satisfied: scipy>=1.0.1 in /usr/local/lib/python3.7/dist-packages (from scikit-image==0.18.3->NLI==1.0.0) (1.4.1)\n",
            "Requirement already satisfied: PyWavelets>=1.1.1 in /usr/local/lib/python3.7/dist-packages (from scikit-image==0.18.3->NLI==1.0.0) (1.2.0)\n",
            "Requirement already satisfied: tifffile>=2019.7.26 in /usr/local/lib/python3.7/dist-packages (from scikit-image==0.18.3->NLI==1.0.0) (2021.11.2)\n",
            "Requirement already satisfied: cycler>=0.10 in /usr/local/lib/python3.7/dist-packages (from matplotlib!=3.0.0,>=2.0.0->scikit-image==0.18.3->NLI==1.0.0) (0.11.0)\n",
            "Requirement already satisfied: pyparsing!=2.0.4,!=2.1.2,!=2.1.6,>=2.0.1 in /usr/local/lib/python3.7/dist-packages (from matplotlib!=3.0.0,>=2.0.0->scikit-image==0.18.3->NLI==1.0.0) (3.0.6)\n",
            "Requirement already satisfied: kiwisolver>=1.0.1 in /usr/local/lib/python3.7/dist-packages (from matplotlib!=3.0.0,>=2.0.0->scikit-image==0.18.3->NLI==1.0.0) (1.3.2)\n",
            "Requirement already satisfied: six>=1.5 in /usr/local/lib/python3.7/dist-packages (from python-dateutil>=2.7.3->pandas==1.1.5->NLI==1.0.0) (1.15.0)\n",
            "Building wheels for collected packages: NLI\n",
            "  Building wheel for NLI (PEP 517) ... \u001b[?25l\u001b[?25hdone\n",
            "  Created wheel for NLI: filename=NLI-1.0.0-py3-none-any.whl size=2406 sha256=1560bca79741ab76575f29d7909879ca0bdb2ee81d8ce93d940f944b7820964b\n",
            "  Stored in directory: /tmp/pip-ephem-wheel-cache-c4y459bw/wheels/17/4a/a4/4f920391e876c3c2632ecc7851748e1c11539349fe2eefd2c4\n",
            "Successfully built NLI\n",
            "Installing collected packages: NLI\n",
            "Successfully installed NLI-1.0.0\n"
          ]
        }
      ],
      "source": [
        "# Install the environnement\n",
        "%pip install git+https://github.com/AwePhD/NotebooksLabsessionImage.git"
      ]
    },
    {
      "cell_type": "code",
      "execution_count": 2,
      "metadata": {
        "colab": {
          "base_uri": "https://localhost:8080/"
        },
        "id": "tSv2bpyERV1k",
        "outputId": "67389fa1-d5d9-4547-d296-cd8db57234f5",
        "slideshow": {
          "slide_type": "skip"
        }
      },
      "outputs": [
        {
          "name": "stdout",
          "output_type": "stream",
          "text": [
            "  % Total    % Received % Xferd  Average Speed   Time    Time     Time  Current\n",
            "                                 Dload  Upload   Total   Spent    Left  Speed\n",
            "100   156  100   156    0     0    445      0 --:--:-- --:--:-- --:--:--   444\n",
            "100 2484k  100 2484k    0     0  4155k      0 --:--:-- --:--:-- --:--:-- 4155k\n"
          ]
        }
      ],
      "source": [
        "# Import dataset \n",
        "# Can be found at https://www.kaggle.com/vishalsubbiah/pokemon-images-and-types\n",
        "!rm -rf ./*\n",
        "!curl -LO https://github.com/AwePhD/NotebooksLabsessionImage/raw/main/pokemon_dataset.zip\n",
        "!unzip -qq pokemon_dataset.zip\n",
        "!rm pokemon_dataset.zip"
      ]
    },
    {
      "cell_type": "code",
      "execution_count": 19,
      "metadata": {
        "id": "jjJJ1JydRV1l",
        "slideshow": {
          "slide_type": "skip"
        }
      },
      "outputs": [],
      "source": [
        "# Standard imports\n",
        "from pathlib import Path\n",
        "from pprint import pprint\n",
        "from typing import List, Dict\n",
        "\n",
        "# Third party imports\n",
        "import numpy as np\n",
        "import matplotlib.pyplot as plt\n",
        "from skimage import io\n",
        "from skimage import data\n",
        "from skimage import img_as_float, img_as_ubyte\n",
        "from skimage import exposure\n",
        "\n",
        "# Local imports\n",
        "from NLI.utils import (\n",
        "    iprint,\n",
        "    print_img_info\n",
        ")"
      ]
    },
    {
      "cell_type": "markdown",
      "metadata": {
        "id": "-KgzEC_uRV1m",
        "slideshow": {
          "slide_type": "slide"
        }
      },
      "source": [
        "## What is an image ?\n",
        "\n",
        "An image is a 2D data with one or more channels for each pixels: grayscale image have 1 channels, RGB images have 3 channels, hyperspectrale images might have dozen of channels.\n",
        "\n",
        "The best way to process images is to use an existing image library. There are multiple image libraries depending on the process' needs. For this notebook, the Scikit-image *aka* skimage is used. This library uses `ndarray` with 3 dimensions to represent images RGB images."
      ]
    },
    {
      "cell_type": "markdown",
      "metadata": {
        "slideshow": {
          "slide_type": "subslide"
        }
      },
      "source": [
        "### Import an image\n",
        "\n",
        "Simply, type the path of the image with `imread`."
      ]
    },
    {
      "cell_type": "code",
      "execution_count": 6,
      "metadata": {
        "colab": {
          "base_uri": "https://localhost:8080/",
          "height": 297
        },
        "id": "GGSek3IvRV1o",
        "outputId": "7061e449-8bd2-410c-ed94-e4835a203dfa",
        "slideshow": {
          "slide_type": "fragment"
        }
      },
      "outputs": [],
      "source": [
        "img = io.imread(\"images/pikachu.png\")"
      ]
    },
    {
      "cell_type": "code",
      "execution_count": 14,
      "metadata": {
        "slideshow": {
          "slide_type": "fragment"
        }
      },
      "outputs": [
        {
          "data": {
            "image/png": "[encoded data removed]",
            "text/plain": [
              "<Figure size 640x480 with 1 Axes>"
            ]
          },
          "metadata": {},
          "output_type": "display_data"
        }
      ],
      "source": [
        "plt.figure()\n",
        "plt.axis(\"off\")\n",
        "plt.title(\"The best rat ever\")\n",
        "io.imshow(img)\n",
        "plt.show()"
      ]
    },
    {
      "cell_type": "markdown",
      "metadata": {
        "slideshow": {
          "slide_type": "slide"
        }
      },
      "source": [
        "### Explore an image\n",
        "\n",
        "As said previously, skimage use the object of `ndarray` to represents image. Eventually, `ndarray` is an object. In short, an object is a data structure - a variable that contains more or less data - with a specific behaviour. \n",
        "\n",
        "For instance, an `ndarray` for an image would contain all the data about the image - the value of each pixel. Plus we will be able to do some operation on this image easily without writing much code : stat informations, image informations, basic arithmetics ..."
      ]
    },
    {
      "cell_type": "code",
      "execution_count": 7,
      "metadata": {
        "colab": {
          "base_uri": "https://localhost:8080/"
        },
        "id": "QUedVfNdRV1o",
        "outputId": "b03132e1-54f5-4dbf-bd82-447e6c99eabc",
        "slideshow": {
          "slide_type": "fragment"
        }
      },
      "outputs": [
        {
          "name": "stdout",
          "output_type": "stream",
          "text": [
            "type(img): <class 'numpy.ndarray'>\n",
            "img.shape: (120, 120, 4)\n",
            "img.dtype: uint8\n",
            "Range: 0-255\n",
            "\n"
          ]
        }
      ],
      "source": [
        "print(\n",
        "    f\"type(img): {type(img)}\\n\"\n",
        "    f\"img.shape: {img.shape}\\n\"\n",
        "    f\"img.dtype: {img.dtype}\\n\"\n",
        "    f\"Range: {img.min()}-{img.max()}\\n\"\n",
        ")"
      ]
    },
    {
      "cell_type": "markdown",
      "metadata": {
        "slideshow": {
          "slide_type": "subslide"
        }
      },
      "source": [
        "We can convert the data inside the image in other data types. This can be useful while you are processing images with your own functions or with functions library. Maybe these functions make the asumption of the data type of the image."
      ]
    },
    {
      "cell_type": "code",
      "execution_count": 8,
      "metadata": {
        "slideshow": {
          "slide_type": "fragment"
        }
      },
      "outputs": [
        {
          "name": "stdout",
          "output_type": "stream",
          "text": [
            "img.shape: (120, 120, 4)\n",
            "img.dtype: float64\n",
            "Range of value: 0.0-1.0\n",
            "\n"
          ]
        }
      ],
      "source": [
        "print_img_info(img_as_float(img))"
      ]
    },
    {
      "cell_type": "code",
      "execution_count": 9,
      "metadata": {
        "slideshow": {
          "slide_type": "fragment"
        }
      },
      "outputs": [
        {
          "name": "stdout",
          "output_type": "stream",
          "text": [
            "img.shape: (120, 120, 4)\n",
            "img.dtype: uint8\n",
            "Range of value: 0-255\n",
            "\n"
          ]
        }
      ],
      "source": [
        "print_img_info(img_as_ubyte(img))"
      ]
    },
    {
      "cell_type": "markdown",
      "metadata": {
        "slideshow": {
          "slide_type": "slide"
        }
      },
      "source": [
        "### More details data type, values range and plotting"
      ]
    },
    {
      "cell_type": "markdown",
      "metadata": {
        "slideshow": {
          "slide_type": "fragment"
        }
      },
      "source": [
        "Now we will illustrate how the data type and the range of values are important to plot an image.\n",
        "\n",
        "In the notebook of `numpy` we stressed that the data type and what values are in our `ndarray` is very important to know. We will see that if we mix the wrong range with the wront data type then it gets messy."
      ]
    },
    {
      "cell_type": "code",
      "execution_count": 17,
      "metadata": {
        "slideshow": {
          "slide_type": "fragment"
        }
      },
      "outputs": [
        {
          "name": "stdout",
          "output_type": "stream",
          "text": [
            "img.shape: (120, 120, 4)\n",
            "img.dtype: float64\n",
            "Range of value: 0.0-255.0\n",
            "\n"
          ]
        }
      ],
      "source": [
        "img_float_255_range = img.astype(np.float64)\n",
        "print_img_info(img_float_255_range)"
      ]
    },
    {
      "cell_type": "code",
      "execution_count": 18,
      "metadata": {
        "slideshow": {
          "slide_type": "subslide"
        }
      },
      "outputs": [
        {
          "name": "stderr",
          "output_type": "stream",
          "text": [
            "Clipping input data to the valid range for imshow with RGB data ([0..1] for floats or [0..255] for integers).\n"
          ]
        },
        {
          "data": {
            "image/png": "[encoded data removed]",
            "text/plain": [
              "<Figure size 640x480 with 1 Axes>"
            ]
          },
          "metadata": {},
          "output_type": "display_data"
        }
      ],
      "source": [
        "plt.figure()\n",
        "plt.axis(\"off\")\n",
        "plt.title(\"The best rat ever\")\n",
        "plt.imshow(img_float_255_range)\n",
        "plt.show()"
      ]
    },
    {
      "cell_type": "markdown",
      "metadata": {
        "slideshow": {
          "slide_type": "subslide"
        }
      },
      "source": [
        "It does not work. With `dtype` as `float64`, Python is expecting pixel values from 0 to 1. For values range and data type, we can check the [documentation of scikit-image](https://scikit-image.org/docs/stable/user_guide/data_types.html#rescaling-intensity-values)"
      ]
    }
  ],
  "metadata": {
    "colab": {
      "name": "image_processing.ipynb",
      "provenance": []
    },
    "kernelspec": {
      "display_name": "Python 3.8.10 ('env': venv)",
      "language": "python",
      "name": "python3"
    },
    "language_info": {
      "codemirror_mode": {
        "name": "ipython",
        "version": 3
      },
      "file_extension": ".py",
      "mimetype": "text/x-python",
      "name": "python",
      "nbconvert_exporter": "python",
      "pygments_lexer": "ipython3",
      "version": "3.8.10"
    },
    "orig_nbformat": 4,
    "vscode": {
      "interpreter": {
        "hash": "d06f5c508cb6d412c5fc39a624b56d5d87ea0c4834e1bf11b5c4d9b980382d19"
      }
    }
  },
  "nbformat": 4,
  "nbformat_minor": 0
}
