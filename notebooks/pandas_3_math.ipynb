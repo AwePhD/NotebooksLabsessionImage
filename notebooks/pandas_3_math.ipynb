{
  "cells": [
    {
      "cell_type": "code",
      "execution_count": 1,
      "metadata": {
        "colab": {
          "base_uri": "https://localhost:8080/"
        },
        "id": "k-RNNAEqPdI-",
        "outputId": "c90fe25a-8f21-4d15-c63b-095d59555153"
      },
      "outputs": [
        {
          "name": "stdout",
          "output_type": "stream",
          "text": [
            "Collecting git+https://github.com/AwePhD/NotebooksLabsessionImage.git\n",
            "  Cloning https://github.com/AwePhD/NotebooksLabsessionImage.git to /tmp/pip-req-build-wko581wo\n",
            "  Running command git clone -q https://github.com/AwePhD/NotebooksLabsessionImage.git /tmp/pip-req-build-wko581wo\n",
            "  Installing build dependencies ... \u001b[?25l\u001b[?25hdone\n",
            "  Getting requirements to build wheel ... \u001b[?25l\u001b[?25hdone\n",
            "  Installing backend dependencies ... \u001b[?25l\u001b[?25hdone\n",
            "    Preparing wheel metadata ... \u001b[?25l\u001b[?25hdone\n",
            "Requirement already satisfied: scikit-image==0.18.3 in /usr/local/lib/python3.7/dist-packages (from NLI==1.0.0) (0.18.3)\n",
            "Requirement already satisfied: pandas==1.1.5 in /usr/local/lib/python3.7/dist-packages (from NLI==1.0.0) (1.1.5)\n",
            "Requirement already satisfied: numpy>=1.15.4 in /usr/local/lib/python3.7/dist-packages (from pandas==1.1.5->NLI==1.0.0) (1.19.5)\n",
            "Requirement already satisfied: pytz>=2017.2 in /usr/local/lib/python3.7/dist-packages (from pandas==1.1.5->NLI==1.0.0) (2018.9)\n",
            "Requirement already satisfied: python-dateutil>=2.7.3 in /usr/local/lib/python3.7/dist-packages (from pandas==1.1.5->NLI==1.0.0) (2.8.2)\n",
            "Requirement already satisfied: networkx>=2.0 in /usr/local/lib/python3.7/dist-packages (from scikit-image==0.18.3->NLI==1.0.0) (2.6.3)\n",
            "Requirement already satisfied: matplotlib!=3.0.0,>=2.0.0 in /usr/local/lib/python3.7/dist-packages (from scikit-image==0.18.3->NLI==1.0.0) (3.2.2)\n",
            "Requirement already satisfied: PyWavelets>=1.1.1 in /usr/local/lib/python3.7/dist-packages (from scikit-image==0.18.3->NLI==1.0.0) (1.2.0)\n",
            "Requirement already satisfied: scipy>=1.0.1 in /usr/local/lib/python3.7/dist-packages (from scikit-image==0.18.3->NLI==1.0.0) (1.4.1)\n",
            "Requirement already satisfied: pillow!=7.1.0,!=7.1.1,>=4.3.0 in /usr/local/lib/python3.7/dist-packages (from scikit-image==0.18.3->NLI==1.0.0) (7.1.2)\n",
            "Requirement already satisfied: tifffile>=2019.7.26 in /usr/local/lib/python3.7/dist-packages (from scikit-image==0.18.3->NLI==1.0.0) (2021.11.2)\n",
            "Requirement already satisfied: imageio>=2.3.0 in /usr/local/lib/python3.7/dist-packages (from scikit-image==0.18.3->NLI==1.0.0) (2.4.1)\n",
            "Requirement already satisfied: pyparsing!=2.0.4,!=2.1.2,!=2.1.6,>=2.0.1 in /usr/local/lib/python3.7/dist-packages (from matplotlib!=3.0.0,>=2.0.0->scikit-image==0.18.3->NLI==1.0.0) (3.0.6)\n",
            "Requirement already satisfied: kiwisolver>=1.0.1 in /usr/local/lib/python3.7/dist-packages (from matplotlib!=3.0.0,>=2.0.0->scikit-image==0.18.3->NLI==1.0.0) (1.3.2)\n",
            "Requirement already satisfied: cycler>=0.10 in /usr/local/lib/python3.7/dist-packages (from matplotlib!=3.0.0,>=2.0.0->scikit-image==0.18.3->NLI==1.0.0) (0.11.0)\n",
            "Requirement already satisfied: six>=1.5 in /usr/local/lib/python3.7/dist-packages (from python-dateutil>=2.7.3->pandas==1.1.5->NLI==1.0.0) (1.15.0)\n",
            "Building wheels for collected packages: NLI\n",
            "  Building wheel for NLI (PEP 517) ... \u001b[?25l\u001b[?25hdone\n",
            "  Created wheel for NLI: filename=NLI-1.0.0-py3-none-any.whl size=2406 sha256=74aa5692ff28a7ace01deb5f6b2999d40864cd7ab8900ccf3958945ce986ccb2\n",
            "  Stored in directory: /tmp/pip-ephem-wheel-cache-7y8z23vr/wheels/17/4a/a4/4f920391e876c3c2632ecc7851748e1c11539349fe2eefd2c4\n",
            "Successfully built NLI\n",
            "Installing collected packages: NLI\n",
            "Successfully installed NLI-1.0.0\n"
          ]
        }
      ],
      "source": [
        "# Install the environnement\n",
        "%pip install git+https: // github.com/AwePhD/NotebooksLabsessionImage.git\n"
      ]
    },
    {
      "cell_type": "code",
      "execution_count": 2,
      "metadata": {
        "colab": {
          "base_uri": "https://localhost:8080/"
        },
        "id": "JalaKZemPhFE",
        "outputId": "557cf8d5-391c-4f86-da50-481b8ff665bd"
      },
      "outputs": [
        {
          "name": "stdout",
          "output_type": "stream",
          "text": [
            "  % Total    % Received % Xferd  Average Speed   Time    Time     Time  Current\n",
            "                                 Dload  Upload   Total   Spent    Left  Speed\n",
            "100   156  100   156    0     0   1695      0 --:--:-- --:--:-- --:--:--  1695\n",
            "100 2484k  100 2484k    0     0  10.6M      0 --:--:-- --:--:-- --:--:-- 10.6M\n"
          ]
        }
      ],
      "source": [
        "# Import dataset\n",
        "# Can be found at https://www.kaggle.com/vishalsubbiah/pokemon-images-and-types\n",
        "!rm - rf ./*\n",
        "!curl - LO https: // github.com/AwePhD/NotebooksLabsessionImage/raw/main/pokemon_dataset.zip\n",
        "!unzip - qq pokemon_dataset.zip\n",
        "!rm pokemon_dataset.zip\n"
      ]
    },
    {
      "cell_type": "code",
      "execution_count": 1,
      "metadata": {
        "id": "Lpcy2df4PjFN"
      },
      "outputs": [],
      "source": [
        "# Standard import\n",
        "from pathlib import Path\n",
        "# Third party imports\n",
        "from skimage import io\n",
        "import numpy as np\n",
        "import pandas as pd"
      ]
    },
    {
      "cell_type": "markdown",
      "metadata": {},
      "source": [
        "## Computation on `DataFrame` objects"
      ]
    },
    {
      "cell_type": "markdown",
      "metadata": {},
      "source": [
        "`pandas` uses `numpy` under the hood for processing data. Computation on `pandas` are - if well used - vectorised and so optimal. So let's see what we can do. 🤓"
      ]
    },
    {
      "cell_type": "markdown",
      "metadata": {},
      "source": [
        "### Create numeric data\n",
        "\n",
        "For each Pokemon we will compute the mean color of the image."
      ]
    },
    {
      "cell_type": "code",
      "execution_count": 2,
      "metadata": {},
      "outputs": [],
      "source": [
        "pokemons = pd.read_csv(\"./pokemon.csv\", index_col='Name')\n",
        "\n",
        "pokemons_mean_colors = dict()\n",
        "for filepath in Path('./images/').iterdir():\n",
        "    pokemon_img = io.imread(filepath)\n",
        "    if filepath.suffix == '.png':  # If they have alpha channel then we ignore the pixel which are transparent\n",
        "        pokemons_mean_colors[filepath.stem] = pokemon_img[pokemon_img[:, :, 3] != 0].mean((0, 1))\n",
        "    else:  # We consider pure white pixels as background\n",
        "        pokemons_mean_colors[filepath.stem] = np.array([\n",
        "            pixel\n",
        "            for pixel in pokemon_img.reshape(-1, 3) # Reshape for dimensios compatiblity\n",
        "            if (pixel != [255, 255, 255]).all() # Exlude pure white pixels\n",
        "        ]).mean(0)\n"
      ]
    },
    {
      "cell_type": "code",
      "execution_count": 23,
      "metadata": {},
      "outputs": [
        {
          "data": {
            "text/html": [
              "<div>\n",
              "<style scoped>\n",
              "    .dataframe tbody tr th:only-of-type {\n",
              "        vertical-align: middle;\n",
              "    }\n",
              "\n",
              "    .dataframe tbody tr th {\n",
              "        vertical-align: top;\n",
              "    }\n",
              "\n",
              "    .dataframe thead th {\n",
              "        text-align: right;\n",
              "    }\n",
              "</style>\n",
              "<table border=\"1\" class=\"dataframe\">\n",
              "  <thead>\n",
              "    <tr style=\"text-align: right;\">\n",
              "      <th></th>\n",
              "      <th>Type1</th>\n",
              "      <th>Type2</th>\n",
              "      <th>Red</th>\n",
              "      <th>Blue</th>\n",
              "      <th>Green</th>\n",
              "    </tr>\n",
              "    <tr>\n",
              "      <th>Name</th>\n",
              "      <th></th>\n",
              "      <th></th>\n",
              "      <th></th>\n",
              "      <th></th>\n",
              "      <th></th>\n",
              "    </tr>\n",
              "  </thead>\n",
              "  <tbody>\n",
              "    <tr>\n",
              "      <th>bulbasaur</th>\n",
              "      <td>Grass</td>\n",
              "      <td>Poison</td>\n",
              "      <td>184.842114</td>\n",
              "      <td>184.842114</td>\n",
              "      <td>184.842114</td>\n",
              "    </tr>\n",
              "    <tr>\n",
              "      <th>ivysaur</th>\n",
              "      <td>Grass</td>\n",
              "      <td>Poison</td>\n",
              "      <td>176.105307</td>\n",
              "      <td>176.105307</td>\n",
              "      <td>176.105307</td>\n",
              "    </tr>\n",
              "    <tr>\n",
              "      <th>venusaur</th>\n",
              "      <td>Grass</td>\n",
              "      <td>Poison</td>\n",
              "      <td>183.148531</td>\n",
              "      <td>183.148531</td>\n",
              "      <td>183.148531</td>\n",
              "    </tr>\n",
              "    <tr>\n",
              "      <th>charmander</th>\n",
              "      <td>Fire</td>\n",
              "      <td>NaN</td>\n",
              "      <td>188.954315</td>\n",
              "      <td>188.954315</td>\n",
              "      <td>188.954315</td>\n",
              "    </tr>\n",
              "    <tr>\n",
              "      <th>charmeleon</th>\n",
              "      <td>Fire</td>\n",
              "      <td>NaN</td>\n",
              "      <td>182.036871</td>\n",
              "      <td>182.036871</td>\n",
              "      <td>182.036871</td>\n",
              "    </tr>\n",
              "  </tbody>\n",
              "</table>\n",
              "</div>"
            ],
            "text/plain": [
              "            Type1   Type2         Red        Blue       Green\n",
              "Name                                                         \n",
              "bulbasaur   Grass  Poison  184.842114  184.842114  184.842114\n",
              "ivysaur     Grass  Poison  176.105307  176.105307  176.105307\n",
              "venusaur    Grass  Poison  183.148531  183.148531  183.148531\n",
              "charmander   Fire     NaN  188.954315  188.954315  188.954315\n",
              "charmeleon   Fire     NaN  182.036871  182.036871  182.036871"
            ]
          },
          "execution_count": 23,
          "metadata": {},
          "output_type": "execute_result"
        }
      ],
      "source": [
        "colour_names = [\"Red\", \"Blue\", \"Green\"]\n",
        "for pokemon_name, mean_colour in pokemons_mean_colors.items():\n",
        "    pokemons.loc[pokemon_name, colour_names] = mean_colour\n",
        "    \n",
        "pokemons.head()"
      ]
    },
    {
      "cell_type": "markdown",
      "metadata": {},
      "source": [
        "Oof 😮‍💨"
      ]
    },
    {
      "cell_type": "markdown",
      "metadata": {},
      "source": [
        "### Get stats\n",
        "\n",
        "Back to method `.describe`\n"
      ]
    },
    {
      "cell_type": "code",
      "execution_count": 24,
      "metadata": {},
      "outputs": [
        {
          "data": {
            "text/html": [
              "<div>\n",
              "<style scoped>\n",
              "    .dataframe tbody tr th:only-of-type {\n",
              "        vertical-align: middle;\n",
              "    }\n",
              "\n",
              "    .dataframe tbody tr th {\n",
              "        vertical-align: top;\n",
              "    }\n",
              "\n",
              "    .dataframe thead th {\n",
              "        text-align: right;\n",
              "    }\n",
              "</style>\n",
              "<table border=\"1\" class=\"dataframe\">\n",
              "  <thead>\n",
              "    <tr style=\"text-align: right;\">\n",
              "      <th></th>\n",
              "      <th>Red</th>\n",
              "      <th>Blue</th>\n",
              "      <th>Green</th>\n",
              "    </tr>\n",
              "  </thead>\n",
              "  <tbody>\n",
              "    <tr>\n",
              "      <th>count</th>\n",
              "      <td>809.000000</td>\n",
              "      <td>809.000000</td>\n",
              "      <td>809.000000</td>\n",
              "    </tr>\n",
              "    <tr>\n",
              "      <th>mean</th>\n",
              "      <td>175.333047</td>\n",
              "      <td>174.720034</td>\n",
              "      <td>174.106963</td>\n",
              "    </tr>\n",
              "    <tr>\n",
              "      <th>std</th>\n",
              "      <td>21.330915</td>\n",
              "      <td>21.676132</td>\n",
              "      <td>22.372165</td>\n",
              "    </tr>\n",
              "    <tr>\n",
              "      <th>min</th>\n",
              "      <td>92.704551</td>\n",
              "      <td>95.195009</td>\n",
              "      <td>87.845656</td>\n",
              "    </tr>\n",
              "    <tr>\n",
              "      <th>25%</th>\n",
              "      <td>161.332639</td>\n",
              "      <td>161.293049</td>\n",
              "      <td>160.941354</td>\n",
              "    </tr>\n",
              "    <tr>\n",
              "      <th>50%</th>\n",
              "      <td>175.965098</td>\n",
              "      <td>175.841014</td>\n",
              "      <td>175.137358</td>\n",
              "    </tr>\n",
              "    <tr>\n",
              "      <th>75%</th>\n",
              "      <td>189.660389</td>\n",
              "      <td>189.095003</td>\n",
              "      <td>188.668950</td>\n",
              "    </tr>\n",
              "    <tr>\n",
              "      <th>max</th>\n",
              "      <td>229.714072</td>\n",
              "      <td>229.714072</td>\n",
              "      <td>229.714072</td>\n",
              "    </tr>\n",
              "  </tbody>\n",
              "</table>\n",
              "</div>"
            ],
            "text/plain": [
              "              Red        Blue       Green\n",
              "count  809.000000  809.000000  809.000000\n",
              "mean   175.333047  174.720034  174.106963\n",
              "std     21.330915   21.676132   22.372165\n",
              "min     92.704551   95.195009   87.845656\n",
              "25%    161.332639  161.293049  160.941354\n",
              "50%    175.965098  175.841014  175.137358\n",
              "75%    189.660389  189.095003  188.668950\n",
              "max    229.714072  229.714072  229.714072"
            ]
          },
          "execution_count": 24,
          "metadata": {},
          "output_type": "execute_result"
        }
      ],
      "source": [
        "pokemons.describe()"
      ]
    },
    {
      "cell_type": "markdown",
      "metadata": {},
      "source": [
        "We can normalize them for example with `.std` and `.mean`"
      ]
    },
    {
      "cell_type": "code",
      "execution_count": 26,
      "metadata": {},
      "outputs": [
        {
          "data": {
            "text/html": [
              "<div>\n",
              "<style scoped>\n",
              "    .dataframe tbody tr th:only-of-type {\n",
              "        vertical-align: middle;\n",
              "    }\n",
              "\n",
              "    .dataframe tbody tr th {\n",
              "        vertical-align: top;\n",
              "    }\n",
              "\n",
              "    .dataframe thead th {\n",
              "        text-align: right;\n",
              "    }\n",
              "</style>\n",
              "<table border=\"1\" class=\"dataframe\">\n",
              "  <thead>\n",
              "    <tr style=\"text-align: right;\">\n",
              "      <th></th>\n",
              "      <th>Red</th>\n",
              "      <th>Blue</th>\n",
              "      <th>Green</th>\n",
              "    </tr>\n",
              "  </thead>\n",
              "  <tbody>\n",
              "    <tr>\n",
              "      <th>count</th>\n",
              "      <td>8.090000e+02</td>\n",
              "      <td>8.090000e+02</td>\n",
              "      <td>809.000000</td>\n",
              "    </tr>\n",
              "    <tr>\n",
              "      <th>mean</th>\n",
              "      <td>1.756595e-17</td>\n",
              "      <td>1.756595e-17</td>\n",
              "      <td>0.000000</td>\n",
              "    </tr>\n",
              "    <tr>\n",
              "      <th>std</th>\n",
              "      <td>1.000000e+00</td>\n",
              "      <td>1.000000e+00</td>\n",
              "      <td>1.000000</td>\n",
              "    </tr>\n",
              "    <tr>\n",
              "      <th>min</th>\n",
              "      <td>-3.873650e+00</td>\n",
              "      <td>-3.668783e+00</td>\n",
              "      <td>-3.855742</td>\n",
              "    </tr>\n",
              "    <tr>\n",
              "      <th>25%</th>\n",
              "      <td>-6.563435e-01</td>\n",
              "      <td>-6.194364e-01</td>\n",
              "      <td>-0.588482</td>\n",
              "    </tr>\n",
              "    <tr>\n",
              "      <th>50%</th>\n",
              "      <td>2.963074e-02</td>\n",
              "      <td>5.171496e-02</td>\n",
              "      <td>0.046057</td>\n",
              "    </tr>\n",
              "    <tr>\n",
              "      <th>75%</th>\n",
              "      <td>6.716703e-01</td>\n",
              "      <td>6.631704e-01</td>\n",
              "      <td>0.650898</td>\n",
              "    </tr>\n",
              "    <tr>\n",
              "      <th>max</th>\n",
              "      <td>2.549399e+00</td>\n",
              "      <td>2.537078e+00</td>\n",
              "      <td>2.485549</td>\n",
              "    </tr>\n",
              "  </tbody>\n",
              "</table>\n",
              "</div>"
            ],
            "text/plain": [
              "                Red          Blue       Green\n",
              "count  8.090000e+02  8.090000e+02  809.000000\n",
              "mean   1.756595e-17  1.756595e-17    0.000000\n",
              "std    1.000000e+00  1.000000e+00    1.000000\n",
              "min   -3.873650e+00 -3.668783e+00   -3.855742\n",
              "25%   -6.563435e-01 -6.194364e-01   -0.588482\n",
              "50%    2.963074e-02  5.171496e-02    0.046057\n",
              "75%    6.716703e-01  6.631704e-01    0.650898\n",
              "max    2.549399e+00  2.537078e+00    2.485549"
            ]
          },
          "execution_count": 26,
          "metadata": {},
          "output_type": "execute_result"
        }
      ],
      "source": [
        "pokemons[colour_names] = (pokemons[colour_names] - pokemons[colour_names].mean()) / pokemons[colour_names].std()\n",
        "pokemons.describe()"
      ]
    },
    {
      "cell_type": "markdown",
      "metadata": {},
      "source": [
        "Also we can do some *useful* :eyes: computation easily ...\n"
      ]
    },
    {
      "cell_type": "code",
      "execution_count": 49,
      "metadata": {},
      "outputs": [
        {
          "data": {
            "text/plain": [
              "Index(['pikachu', 'mankey', 'omastar', 'mienshao', 'mareep'], dtype='object', name='Name')"
            ]
          },
          "execution_count": 49,
          "metadata": {},
          "output_type": "execute_result"
        }
      ],
      "source": [
        "query_color = pokemons.loc['pikachu'][colour_names]\n",
        "\n",
        "# Top 5 index names which match pikachu colour\n",
        "(query_color - pokemons[colour_names]).pow(2).sum('columns').sort_values().head(5).index"
      ]
    },
    {
      "cell_type": "markdown",
      "metadata": {},
      "source": [
        "In this computation there are several commonly used methods. They can be chained because each time they return a `Series` object which can call other methods.\n",
        "\n",
        "Using `pandas` can make code readable, maintanable and efficient. 🥧"
      ]
    }
  ],
  "metadata": {
    "colab": {
      "name": "pandas_intro.ipynb",
      "provenance": []
    },
    "kernelspec": {
      "display_name": "Python 3.8.10 ('env': venv)",
      "language": "python",
      "name": "python3"
    },
    "language_info": {
      "codemirror_mode": {
        "name": "ipython",
        "version": 3
      },
      "file_extension": ".py",
      "mimetype": "text/x-python",
      "name": "python",
      "nbconvert_exporter": "python",
      "pygments_lexer": "ipython3",
      "version": "3.8.10"
    },
    "orig_nbformat": 4,
    "vscode": {
      "interpreter": {
        "hash": "d06f5c508cb6d412c5fc39a624b56d5d87ea0c4834e1bf11b5c4d9b980382d19"
      }
    }
  },
  "nbformat": 4,
  "nbformat_minor": 0
}
