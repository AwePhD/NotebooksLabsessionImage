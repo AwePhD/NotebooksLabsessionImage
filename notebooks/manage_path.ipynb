{
  "cells": [
    {
      "cell_type": "markdown",
      "metadata": {},
      "source": [
        "##### Execute on Google Collab only"
      ]
    },
    {
      "cell_type": "code",
      "execution_count": null,
      "metadata": {
        "colab": {
          "base_uri": "https://localhost:8080/"
        },
        "id": "G88EP9iJ2ckL",
        "outputId": "a1c5e8c1-1d97-457a-dc38-4f8baee2b88f"
      },
      "outputs": [],
      "source": [
        "# Install the environnement\n",
        "%pip install git+https://github.com/AwePhD/NotebooksLabsessionImage.git"
      ]
    },
    {
      "cell_type": "code",
      "execution_count": null,
      "metadata": {
        "colab": {
          "base_uri": "https://localhost:8080/"
        },
        "id": "6BvM05Bh2fp7",
        "outputId": "c20d35d1-867b-4bf5-afbf-b42719427f7a"
      },
      "outputs": [],
      "source": [
        "# Import dataset \n",
        "# Can be found at https://www.kaggle.com/vishalsubbiah/pokemon-images-and-types\n",
        "!rm -rf ./*\n",
        "!curl -LO https://github.com/AwePhD/NotebooksLabsessionImage/raw/main/pokemon_dataset.zip\n",
        "!unzip -qq pokemon_dataset.zip\n",
        "!rm pokemon_dataset.zip"
      ]
    },
    {
      "cell_type": "markdown",
      "metadata": {},
      "source": [
        "##### Execute anywhere"
      ]
    },
    {
      "cell_type": "code",
      "execution_count": null,
      "metadata": {
        "id": "r11Fw1yN2jD9"
      },
      "outputs": [],
      "source": [
        "# Standard import\n",
        "from pathlib import Path"
      ]
    },
    {
      "cell_type": "markdown",
      "metadata": {
        "id": "1v75bV3p22Ta"
      },
      "source": [
        "## The problem of Path\n",
        "Path can be a huge pain for any project in Python. These functions might have complicated syntax, hard  to remember, hard to search. \n",
        "\n",
        "More, when a project is developped by multiple users, they might work on different OS (Linux, macOS, Windows). Each OS have a different way to work with paths. Which means that some code might run perfectly on Linux and does not work on Windows. So we want to figure out a way of browsing paths without being OS dependent.\n",
        "\n",
        "The point of this notebook is to provide some lines that can be used in any project.\n",
        "All deeper code explanation can be found in the [Python doc](https://docs.python.org/fr/3/library/pathlib.html), I highly recommend to read this doc page once in your life or to read the excellent [Real Python blog](https://realpython.com/python-pathlib/).\n"
      ]
    },
    {
      "cell_type": "markdown",
      "metadata": {},
      "source": [
        "### Get the current working directory\n",
        "\n",
        "This is the base command to locate where Python is running. All [relative paths](https://www.computerhope.com/jargon/r/relapath.htm) are relative to the current working directory."
      ]
    },
    {
      "cell_type": "code",
      "execution_count": null,
      "metadata": {
        "colab": {
          "base_uri": "https://localhost:8080/"
        },
        "id": "MI7h24LXOA20",
        "outputId": "25555edb-5518-49aa-b5af-153277936fb6"
      },
      "outputs": [],
      "source": [
        "print(f\"Path.cwd(): {Path.cwd()}\\n\")"
      ]
    },
    {
      "cell_type": "markdown",
      "metadata": {},
      "source": [
        "### Relative and absolute path\n",
        "\n",
        "Speaking of relative path, there is the opposite: the absolute path. This path is relative to the root folder. It shows all the details of the path to go into a specific location. This is absolute because the root folder is an absolute reference for every locations of the computer file's tree. The relative path is relative to a specific folder `.`. The same path `some/path` is not the same location based on where is your `.` in the global path. While, the absolute path version is clear and long `/absolute/path/to/some/path` and do not depend of anything.\n",
        "\n",
        "- `.` is the local path / current working directory. Typing a path beginning with `.` is a **relative path** to the current position in the compute folder's and file's tree.\n",
        "- `/` (or `<DRIVER_LETTER>:/` on Windows) is the root path. Typing a path starting with `/` is an **absolute path**. This path does not depend of anything but the root folder which is known by every files of the system."
      ]
    },
    {
      "cell_type": "code",
      "execution_count": null,
      "metadata": {
        "colab": {
          "base_uri": "https://localhost:8080/"
        },
        "id": "MbsrIg51OEeb",
        "outputId": "3526d565-9fd9-4792-9778-45c7f9423a67"
      },
      "outputs": [],
      "source": [
        "print(\n",
        "    f\"Path.cwd().is_absolute(): {Path.cwd().is_absolute()}\\n\"\n",
        "    f\"Path('.').is_absolute(): {Path('.').is_absolute()}\\n\"\n",
        "    f\"Path.cwd().samefile(Path('.'): {Path.cwd().samefile(Path('.'))}\\n\"\n",
        ")"
      ]
    },
    {
      "cell_type": "markdown",
      "metadata": {},
      "source": [
        "### Browsing files in a folder"
      ]
    },
    {
      "cell_type": "markdown",
      "metadata": {},
      "source": [
        "One of the most useful feature is to get access of files under a specific folder. This can be easily done with an iterator provided by `.iterdir()` for any `Path` variable, if the corresponding path is a directory.\n",
        "\n",
        "In Python, an **iterator** is something that you can loop over, no more (kind of). For more details see the [official Python documentation](https://wiki.python.org/moin/Iterator). So `iterdir()` offers to loop over all the files containing in a folder, which is pretty useful. We will iterate over all the `Path` variables respresenting each file in the folder. This has the great advantage that we can use the methods of the `Path` object when itering, which makes the code much more readable.\n",
        "\n",
        "Actually, as we see just below, `.iterdir()` is a generator which is very similar to an iterator. For more details, see the [official Python documentation](https://wiki.python.org/moin/Generators). In short, it acts like an iterator - we can loop over it. But, the generator is not evaluated until it gets iterated. The iterator stores all its data beforehand while the generator load the useful data on the fly, during the iteration.\n",
        "\n",
        "Let's take a look of what is inside the current working directory.\n"
      ]
    },
    {
      "cell_type": "code",
      "execution_count": null,
      "metadata": {
        "colab": {
          "base_uri": "https://localhost:8080/"
        },
        "id": "KSbHoDwCOHIc",
        "outputId": "2782752a-40eb-4e94-80e9-72533b3bb128"
      },
      "outputs": [],
      "source": [
        "print(f\"type(Path.cwd().iterdir()): {type(Path.cwd().iterdir())}\\n\")\n",
        "for pathfile in Path.cwd().iterdir():\n",
        "  print(pathfile)"
      ]
    },
    {
      "cell_type": "markdown",
      "metadata": {},
      "source": [
        "Also we can take a look of the data inside the `images` folder.\n",
        "\n",
        "One detail, we change the generator - given by `iterdir()` - into a list. Why? Because a generator - or iterator - does not know its length. So, if we want only the first $n$ elements of a generator, we force it to be a list (or a tuple, or any datastructure that supports `len()`) so we can take the first $n$ elements."
      ]
    },
    {
      "cell_type": "code",
      "execution_count": null,
      "metadata": {
        "colab": {
          "base_uri": "https://localhost:8080/"
        },
        "id": "Kq4ybfmNOJlz",
        "outputId": "01971828-97dd-4ddd-f99f-901dcca72851"
      },
      "outputs": [],
      "source": [
        "path_images_dir: Path = Path.cwd() / \"images\"\n",
        "for pathfile in list(path_images_dir.iterdir())[:5]:\n",
        "  print(pathfile)"
      ]
    },
    {
      "cell_type": "markdown",
      "metadata": {},
      "source": [
        "As we say previously, we can take advantage of the `Path` object returned for each iteration. Here `pathfile` is a `Path` object which will designed each files in the folder. From this object we can easily get the name of the file, the extension of the file or the name without the extension. Here we can see that the `Path` object makes browsing files and get information very convenient for us."
      ]
    },
    {
      "cell_type": "code",
      "execution_count": null,
      "metadata": {
        "colab": {
          "base_uri": "https://localhost:8080/"
        },
        "id": "aiuXTmhvOLyC",
        "outputId": "62c8d49e-9b2f-44ec-d8af-54f4d1d8234c"
      },
      "outputs": [],
      "source": [
        "for pathfile in list(path_images_dir.iterdir())[:5]:\n",
        "  print(\n",
        "      f\"name: {pathfile.name}\\n\"\n",
        "      f\"stem: {pathfile.stem}\\n\"\n",
        "      f\"suffix: {pathfile.suffix}\\n\"\n",
        "  )"
      ]
    },
    {
      "cell_type": "markdown",
      "metadata": {},
      "source": [
        "### Browsing up\n",
        "\n",
        "We just see that we can browse down the tree of files. Also, we can browse up, namely we can go to the parent directory. Same as before, the parent directory `Path` object will give us handy features. \n",
        "\n",
        "To browse up there is the straightforward `parent` attribute to ask for the direct parent directory. Plus, if we need to browse up even further, we can use the `parents` list attribute to go upper by several levels. This version of `parents` is useful to avoid `.parent.parent.parent` to go up 3 levels: it's repetitive and error prone."
      ]
    },
    {
      "cell_type": "code",
      "execution_count": null,
      "metadata": {
        "colab": {
          "base_uri": "https://localhost:8080/"
        },
        "id": "3ff1ZRXSHkLw",
        "outputId": "b3f0f24e-c23b-4367-d76c-ec142282c565"
      },
      "outputs": [],
      "source": [
        "# We can navigate in the path by going to parent directories\n",
        "print(\n",
        "    f\"path: {path_images_dir}\\n\"\n",
        "    f\"path.parent: {path_images_dir.parent}\\n\"\n",
        "    f\"path.parents[0]: {path_images_dir.parents[0]}\\n\"\n",
        "    f\"path.parents[1]: {path_images_dir.parents[1]}\\n\"\n",
        ")"
      ]
    },
    {
      "cell_type": "markdown",
      "metadata": {},
      "source": [
        "### File or folder"
      ]
    },
    {
      "cell_type": "markdown",
      "metadata": {},
      "source": [
        "With `is_dir()` and `is_file()` we can respectively check wether the `Path` object designates a directory or a file."
      ]
    },
    {
      "cell_type": "code",
      "execution_count": null,
      "metadata": {
        "colab": {
          "base_uri": "https://localhost:8080/"
        },
        "id": "08jhtN2OwiGd",
        "outputId": "06a438a2-5659-47c3-cf9f-8c1102188c69"
      },
      "outputs": [],
      "source": [
        "# We can test if the path is directory or a file\n",
        "path_pikachu = path_images_dir / \"pikachu.png\"\n",
        "print(\n",
        "    f\"Images path is dir ? {path_images_dir.is_dir()}\\n\"\n",
        "    f\"Images path is file ? {path_images_dir.is_file()}\\n\\n\"\n",
        "    f\"Pikachu path is dir ? {path_pikachu.is_dir()}\\n\"\n",
        "    f\"Pikachu path is file ? {path_pikachu.is_file()}\\n\"\n",
        ")"
      ]
    }
  ],
  "metadata": {
    "colab": {
      "name": "manage_path.ipynb",
      "provenance": []
    },
    "kernelspec": {
      "display_name": "Python 3.8.10 ('env': venv)",
      "language": "python",
      "name": "python3"
    },
    "language_info": {
      "codemirror_mode": {
        "name": "ipython",
        "version": 3
      },
      "file_extension": ".py",
      "mimetype": "text/x-python",
      "name": "python",
      "nbconvert_exporter": "python",
      "pygments_lexer": "ipython3",
      "version": "3.8.10"
    },
    "orig_nbformat": 4,
    "vscode": {
      "interpreter": {
        "hash": "d06f5c508cb6d412c5fc39a624b56d5d87ea0c4834e1bf11b5c4d9b980382d19"
      }
    }
  },
  "nbformat": 4,
  "nbformat_minor": 0
}
