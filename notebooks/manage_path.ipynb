{
  "cells": [
    {
      "cell_type": "code",
      "execution_count": 1,
      "metadata": {
        "colab": {
          "base_uri": "https://localhost:8080/"
        },
        "id": "G88EP9iJ2ckL",
        "outputId": "a1c5e8c1-1d97-457a-dc38-4f8baee2b88f"
      },
      "outputs": [
        {
          "output_type": "stream",
          "name": "stdout",
          "text": [
            "Collecting git+https://github.com/AwePhD/NotebooksLabsessionImage.git\n",
            "  Cloning https://github.com/AwePhD/NotebooksLabsessionImage.git to /tmp/pip-req-build-3x6qtnj6\n",
            "  Running command git clone -q https://github.com/AwePhD/NotebooksLabsessionImage.git /tmp/pip-req-build-3x6qtnj6\n",
            "  Installing build dependencies ... \u001b[?25l\u001b[?25hdone\n",
            "  Getting requirements to build wheel ... \u001b[?25l\u001b[?25hdone\n",
            "  Installing backend dependencies ... \u001b[?25l\u001b[?25hdone\n",
            "    Preparing wheel metadata ... \u001b[?25l\u001b[?25hdone\n",
            "Requirement already satisfied: scikit-image==0.18.3 in /usr/local/lib/python3.7/dist-packages (from NLI==1.0.0) (0.18.3)\n",
            "Requirement already satisfied: pandas==1.1.5 in /usr/local/lib/python3.7/dist-packages (from NLI==1.0.0) (1.1.5)\n",
            "Requirement already satisfied: python-dateutil>=2.7.3 in /usr/local/lib/python3.7/dist-packages (from pandas==1.1.5->NLI==1.0.0) (2.8.2)\n",
            "Requirement already satisfied: numpy>=1.15.4 in /usr/local/lib/python3.7/dist-packages (from pandas==1.1.5->NLI==1.0.0) (1.19.5)\n",
            "Requirement already satisfied: pytz>=2017.2 in /usr/local/lib/python3.7/dist-packages (from pandas==1.1.5->NLI==1.0.0) (2018.9)\n",
            "Requirement already satisfied: tifffile>=2019.7.26 in /usr/local/lib/python3.7/dist-packages (from scikit-image==0.18.3->NLI==1.0.0) (2021.11.2)\n",
            "Requirement already satisfied: imageio>=2.3.0 in /usr/local/lib/python3.7/dist-packages (from scikit-image==0.18.3->NLI==1.0.0) (2.4.1)\n",
            "Requirement already satisfied: networkx>=2.0 in /usr/local/lib/python3.7/dist-packages (from scikit-image==0.18.3->NLI==1.0.0) (2.6.3)\n",
            "Requirement already satisfied: PyWavelets>=1.1.1 in /usr/local/lib/python3.7/dist-packages (from scikit-image==0.18.3->NLI==1.0.0) (1.2.0)\n",
            "Requirement already satisfied: matplotlib!=3.0.0,>=2.0.0 in /usr/local/lib/python3.7/dist-packages (from scikit-image==0.18.3->NLI==1.0.0) (3.2.2)\n",
            "Requirement already satisfied: pillow!=7.1.0,!=7.1.1,>=4.3.0 in /usr/local/lib/python3.7/dist-packages (from scikit-image==0.18.3->NLI==1.0.0) (7.1.2)\n",
            "Requirement already satisfied: scipy>=1.0.1 in /usr/local/lib/python3.7/dist-packages (from scikit-image==0.18.3->NLI==1.0.0) (1.4.1)\n",
            "Requirement already satisfied: pyparsing!=2.0.4,!=2.1.2,!=2.1.6,>=2.0.1 in /usr/local/lib/python3.7/dist-packages (from matplotlib!=3.0.0,>=2.0.0->scikit-image==0.18.3->NLI==1.0.0) (3.0.6)\n",
            "Requirement already satisfied: kiwisolver>=1.0.1 in /usr/local/lib/python3.7/dist-packages (from matplotlib!=3.0.0,>=2.0.0->scikit-image==0.18.3->NLI==1.0.0) (1.3.2)\n",
            "Requirement already satisfied: cycler>=0.10 in /usr/local/lib/python3.7/dist-packages (from matplotlib!=3.0.0,>=2.0.0->scikit-image==0.18.3->NLI==1.0.0) (0.11.0)\n",
            "Requirement already satisfied: six>=1.5 in /usr/local/lib/python3.7/dist-packages (from python-dateutil>=2.7.3->pandas==1.1.5->NLI==1.0.0) (1.15.0)\n",
            "Building wheels for collected packages: NLI\n",
            "  Building wheel for NLI (PEP 517) ... \u001b[?25l\u001b[?25hdone\n",
            "  Created wheel for NLI: filename=NLI-1.0.0-py3-none-any.whl size=2406 sha256=daf6a5895824ddcfe7ae699888df6074ff93a8bff7e01f79ea92bfb64bd42b0b\n",
            "  Stored in directory: /tmp/pip-ephem-wheel-cache-rrkib_df/wheels/17/4a/a4/4f920391e876c3c2632ecc7851748e1c11539349fe2eefd2c4\n",
            "Successfully built NLI\n",
            "Installing collected packages: NLI\n",
            "Successfully installed NLI-1.0.0\n"
          ]
        }
      ],
      "source": [
        "# Install the environnement\n",
        "%pip install git+https://github.com/AwePhD/NotebooksLabsessionImage.git"
      ]
    },
    {
      "cell_type": "code",
      "source": [
        "# Import dataset \n",
        "# Can be found at https://www.kaggle.com/vishalsubbiah/pokemon-images-and-types\n",
        "!rm -rf ./*\n",
        "!curl -LO https://github.com/AwePhD/NotebooksLabsessionImage/raw/main/pokemon_dataset.zip\n",
        "!unzip -qq pokemon_dataset.zip\n",
        "!rm pokemon_dataset.zip"
      ],
      "metadata": {
        "colab": {
          "base_uri": "https://localhost:8080/"
        },
        "id": "6BvM05Bh2fp7",
        "outputId": "c20d35d1-867b-4bf5-afbf-b42719427f7a"
      },
      "execution_count": 2,
      "outputs": [
        {
          "output_type": "stream",
          "name": "stdout",
          "text": [
            "  % Total    % Received % Xferd  Average Speed   Time    Time     Time  Current\n",
            "                                 Dload  Upload   Total   Spent    Left  Speed\n",
            "100   156  100   156    0     0    387      0 --:--:-- --:--:-- --:--:--   386\n",
            "100 2484k  100 2484k    0     0  3539k      0 --:--:-- --:--:-- --:--:-- 3539k\n"
          ]
        }
      ]
    },
    {
      "cell_type": "code",
      "source": [
        "# Standard import\n",
        "from pathlib import Path"
      ],
      "metadata": {
        "id": "r11Fw1yN2jD9"
      },
      "execution_count": 3,
      "outputs": []
    },
    {
      "cell_type": "markdown",
      "source": [
        "## The problem of Path\n",
        "Path can be a huge pain for any project on Python. These functions might have complicated syntax, hard  to remember, hard to search. \n",
        "\n",
        "More, when a project is developped by multiple users, they might work on different OS (Linux, macOS, Windows). Each OS have a different way to work with paths. Which means that some code might run perfectly on Linux and does not work on Windows. So we to figure out a way of browsing path without being OS dependent.\n",
        "\n",
        "The point of this notebook is to provide some lines that can be used in any project.\n",
        "All deeper code explanation can be found in the [Python doc](https://docs.python.org/fr/3/library/pathlib.html) "
      ],
      "metadata": {
        "id": "1v75bV3p22Ta"
      }
    },
    {
      "cell_type": "code",
      "source": [
        "# Get the current working directory\n",
        "# a.k.a from which path Python is browsing\n",
        "print(f\"Path.cwd(): {Path.cwd()}\\n\")"
      ],
      "metadata": {
        "id": "MI7h24LXOA20",
        "outputId": "25555edb-5518-49aa-b5af-153277936fb6",
        "colab": {
          "base_uri": "https://localhost:8080/"
        }
      },
      "execution_count": 4,
      "outputs": [
        {
          "output_type": "stream",
          "name": "stdout",
          "text": [
            "Path.cwd(): /content\n",
            "\n"
          ]
        }
      ]
    },
    {
      "cell_type": "code",
      "source": [
        "# Working directory and local path\n",
        "# Local is the \"./\" path\n",
        "# Working directory is from where Python is working\n",
        "# Path.cwd() -> give the absolute path \"/content\"\n",
        "# Path(\".\") -> give the relative path \".\"\n",
        "# Path.cwd().samefile(Path('.')) gives away that the current directory is the\n",
        "# local folder. \n",
        "print(\n",
        "    f\"Path.cwd().is_absolute(): {Path.cwd().is_absolute()}\\n\"\n",
        "    f\"Path('.').is_absolute(): {Path('.').is_absolute()}\\n\"\n",
        "    f\"Path.cwd().samefile(Path('.'): {Path.cwd().samefile(Path('.'))}\\n\"\n",
        ")"
      ],
      "metadata": {
        "id": "MbsrIg51OEeb",
        "outputId": "3526d565-9fd9-4792-9778-45c7f9423a67",
        "colab": {
          "base_uri": "https://localhost:8080/"
        }
      },
      "execution_count": 5,
      "outputs": [
        {
          "output_type": "stream",
          "name": "stdout",
          "text": [
            "Path.cwd().is_absolute(): True\n",
            "Path('.').is_absolute(): False\n",
            "Path.cwd().samefile(Path('.'): True\n",
            "\n"
          ]
        }
      ]
    },
    {
      "cell_type": "code",
      "source": [
        "# iterdir() is a method that returns a generator to browse the list of other\n",
        "# files and directories.\n",
        "# A generator is different than a list, those are some important technical \n",
        "# details\n",
        "# https://realpython.com/introduction-to-python-generators/\n",
        "print(f\"type(Path.cwd().iterdir()): {type(Path.cwd().iterdir())}\\n\")\n",
        "for pathfile in Path.cwd().iterdir():\n",
        "  print(pathfile)"
      ],
      "metadata": {
        "id": "KSbHoDwCOHIc",
        "outputId": "2782752a-40eb-4e94-80e9-72533b3bb128",
        "colab": {
          "base_uri": "https://localhost:8080/"
        }
      },
      "execution_count": 6,
      "outputs": [
        {
          "output_type": "stream",
          "name": "stdout",
          "text": [
            "type(Path.cwd().iterdir()): <class 'generator'>\n",
            "\n",
            "/content/.config\n",
            "/content/pokemon.csv\n",
            "/content/images\n"
          ]
        }
      ]
    },
    {
      "cell_type": "code",
      "source": [
        "# Now we can browse the images folder\n",
        "# To browse a limited amount of files (first 10 files) we need to convert\n",
        "# the generator into a list\n",
        "path_images_dir: Path = Path.cwd() / \"images\"\n",
        "for pathfile in list(path_images_dir.iterdir())[:5]:\n",
        "  print(pathfile)"
      ],
      "metadata": {
        "id": "Kq4ybfmNOJlz",
        "outputId": "01971828-97dd-4ddd-f99f-901dcca72851",
        "colab": {
          "base_uri": "https://localhost:8080/"
        }
      },
      "execution_count": 7,
      "outputs": [
        {
          "output_type": "stream",
          "name": "stdout",
          "text": [
            "/content/images/octillery.png\n",
            "/content/images/nincada.png\n",
            "/content/images/terrakion.png\n",
            "/content/images/vileplume.png\n",
            "/content/images/jigglypuff.png\n"
          ]
        }
      ]
    },
    {
      "cell_type": "code",
      "source": [
        "# With this, we can extract the name, suffix and stem of the file\n",
        "for pathfile in list(path_images_dir.iterdir())[:5]:\n",
        "  print(\n",
        "      f\"name: {pathfile.name}\\n\"\n",
        "      f\"stem: {pathfile.stem}\\n\"\n",
        "      f\"suffix: {pathfile.suffix}\\n\"\n",
        "  )"
      ],
      "metadata": {
        "id": "aiuXTmhvOLyC",
        "outputId": "62c8d49e-9b2f-44ec-d8af-54f4d1d8234c",
        "colab": {
          "base_uri": "https://localhost:8080/"
        }
      },
      "execution_count": 8,
      "outputs": [
        {
          "output_type": "stream",
          "name": "stdout",
          "text": [
            "name: octillery.png\n",
            "stem: octillery\n",
            "suffix: .png\n",
            "\n",
            "name: nincada.png\n",
            "stem: nincada\n",
            "suffix: .png\n",
            "\n",
            "name: terrakion.png\n",
            "stem: terrakion\n",
            "suffix: .png\n",
            "\n",
            "name: vileplume.png\n",
            "stem: vileplume\n",
            "suffix: .png\n",
            "\n",
            "name: jigglypuff.png\n",
            "stem: jigglypuff\n",
            "suffix: .png\n",
            "\n"
          ]
        }
      ]
    },
    {
      "cell_type": "code",
      "source": [
        "# We can navigate in the path by going to parent directories\n",
        "print(\n",
        "    f\"path: {path_images_dir}\\n\"\n",
        "    f\"path.parent: {path_images_dir.parent}\\n\"\n",
        "    f\"path.parents[0]: {path_images_dir.parents[0]}\\n\"\n",
        "    f\"path.parents[1]: {path_images_dir.parents[1]}\\n\"\n",
        ")"
      ],
      "metadata": {
        "id": "3ff1ZRXSHkLw",
        "outputId": "b3f0f24e-c23b-4367-d76c-ec142282c565",
        "colab": {
          "base_uri": "https://localhost:8080/"
        }
      },
      "execution_count": 9,
      "outputs": [
        {
          "output_type": "stream",
          "name": "stdout",
          "text": [
            "path: /content/images\n",
            "path.parent: /content\n",
            "path.parents[0]: /content\n",
            "path.parents[1]: /\n",
            "\n"
          ]
        }
      ]
    },
    {
      "cell_type": "code",
      "source": [
        "# We can test if the path is directory or a file\n",
        "path_pikachu = path_images_dir / \"pikachu.png\"\n",
        "print(\n",
        "    f\"Images path is dir ? {path_images_dir.is_dir()}\\n\"\n",
        "    f\"Images path is file ? {path_images_dir.is_file()}\\n\\n\"\n",
        "    f\"Pikachu path is dir ? {path_pikachu.is_dir()}\\n\"\n",
        "    f\"Pikachu path is file ? {path_pikachu.is_file()}\\n\"\n",
        ")"
      ],
      "metadata": {
        "id": "08jhtN2OwiGd",
        "outputId": "06a438a2-5659-47c3-cf9f-8c1102188c69",
        "colab": {
          "base_uri": "https://localhost:8080/"
        }
      },
      "execution_count": 12,
      "outputs": [
        {
          "output_type": "stream",
          "name": "stdout",
          "text": [
            "Images path is dir ? True\n",
            "Images path is file ? False\n",
            "\n",
            "Pikachu path is dir ? False\n",
            "Pikachu path is file ? True\n",
            "\n"
          ]
        }
      ]
    }
  ],
  "metadata": {
    "language_info": {
      "name": "python"
    },
    "orig_nbformat": 4,
    "colab": {
      "name": "manage_path.ipynb",
      "provenance": []
    },
    "kernelspec": {
      "name": "python3",
      "display_name": "Python 3"
    }
  },
  "nbformat": 4,
  "nbformat_minor": 0
}